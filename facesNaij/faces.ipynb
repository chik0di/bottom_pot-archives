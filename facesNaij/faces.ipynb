{
 "cells": [
  {
   "cell_type": "code",
   "execution_count": 5,
   "metadata": {},
   "outputs": [],
   "source": [
    "import requests\n",
    "import pandas as pd\n",
    "from bs4 import BeautifulSoup\n",
    "from selenium import webdriver\n",
    "from selenium.webdriver.chrome.service import Service\n",
    "from selenium.webdriver.common.by import By\n",
    "from selenium.webdriver.support.ui import WebDriverWait\n",
    "from selenium.webdriver.support import expected_conditions as EC\n",
    "import re\n",
    "from urllib.parse import urlparse\n",
    "import os"
   ]
  },
  {
   "cell_type": "markdown",
   "metadata": {},
   "source": [
    "iStock"
   ]
  },
  {
   "cell_type": "code",
   "execution_count": null,
   "metadata": {},
   "outputs": [],
   "source": [
    "path = \"C:/Users/HP/Downloads/chromedriver-win64/chromedriver.exe\"\n",
    "service = Service(path)\n",
    "\n",
    "save_location = \"C:/Users/HP/Desktop/webscraper/facesNaij/img-dump\"\n",
    "os.makedirs(save_location, exist_ok=True)\n",
    "\n",
    "driver = webdriver.Chrome(service=service)\n",
    "\n",
    "def clean_filename(url):\n",
    "    parsed_url = urlparse(url) \n",
    "    filename = os.path.basename(parsed_url.path)  \n",
    "    filename = re.sub(r\"[^\\w.-]\", \"_\", filename)  \n",
    "    return filename\n",
    "\n",
    "for x in range(1, 25):\n",
    "    \n",
    "    url = f\"https://www.istockphoto.com/search/2/image?mediatype=photography&page={x}&phrase=nigerian%20faces\"\n",
    "    driver.get(url)\n",
    "\n",
    "    page_source = driver.page_source\n",
    "    soup = BeautifulSoup(page_source, 'html.parser')\n",
    "\n",
    "    images = soup.find_all('img', class_= 'PnVbv5qRe5ya18jbe2Gt')\n",
    "\n",
    "    for image in images:\n",
    "        img_url = image.get(\"src\")\n",
    "\n",
    "        try:\n",
    "            if img_url and img_url.startswith((\"http://\", \"https://\")):\n",
    "                \n",
    "                img_data = requests.get(img_url).content\n",
    "                \n",
    "                img_name = clean_filename(img_url)\n",
    "                save_path = os.path.join(save_location, img_name)\n",
    "                \n",
    "                with open(save_path, \"wb\") as img_file:\n",
    "                    img_file.write(img_data)\n",
    "        except Exception as e:\n",
    "            print(f\"Failed to download {img_url}: {e}\")"
   ]
  }
 ],
 "metadata": {
  "kernelspec": {
   "display_name": "Python 3",
   "language": "python",
   "name": "python3"
  },
  "language_info": {
   "codemirror_mode": {
    "name": "ipython",
    "version": 3
   },
   "file_extension": ".py",
   "mimetype": "text/x-python",
   "name": "python",
   "nbconvert_exporter": "python",
   "pygments_lexer": "ipython3",
   "version": "3.12.4"
  }
 },
 "nbformat": 4,
 "nbformat_minor": 2
}
