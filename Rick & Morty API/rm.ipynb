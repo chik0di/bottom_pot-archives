{
 "cells": [
  {
   "cell_type": "code",
   "execution_count": 59,
   "metadata": {},
   "outputs": [],
   "source": [
    "import requests\n",
    "import pandas as pd"
   ]
  },
  {
   "cell_type": "code",
   "execution_count": 65,
   "metadata": {},
   "outputs": [],
   "source": [
    "baseurl = 'https://rickandmortyapi.com/api/'\n",
    "endpoint = 'character'\n",
    "\n",
    "def main(baseurl, endpoint, x):\n",
    "    response = requests.get(baseurl + endpoint + f'?page={x}')\n",
    "    return response.json()\n",
    "\n",
    "def get_pages(response): \n",
    "    pages = response['info']['pages']\n",
    "    return pages \n",
    "\n",
    "def parse_json(response):\n",
    "    charlist = []\n",
    "    for item in response['results']:\n",
    "        char = {\n",
    "            'id':item['id'],\n",
    "            'name':item['name'], \n",
    "            'status':item['status'],\n",
    "            'species':item['species'],\n",
    "            'gender':item['gender'],\n",
    "            'type':item['type'],\n",
    "            'origin':item['origin']['name'],\n",
    "            'location':item['location']['name'],\n",
    "            'no_of_episodes':len(item['episode'])\n",
    "        }\n",
    "        \n",
    "        charlist.append(char)\n",
    "    return charlist\n",
    "\n",
    "data = main(baseurl, endpoint, 1)\n",
    "characters = []\n",
    "\n",
    "for x in range(1, get_pages(data)+1):\n",
    "    everthing = parse_json(main(baseurl, endpoint, x))\n",
    "    characters.extend(everthing)"
   ]
  },
  {
   "cell_type": "code",
   "execution_count": 66,
   "metadata": {},
   "outputs": [],
   "source": [
    "cast = pd.DataFrame(characters)\n",
    "cast.to_csv('Characters.csv', index=False)"
   ]
  },
  {
   "cell_type": "code",
   "execution_count": 63,
   "metadata": {},
   "outputs": [],
   "source": [
    "baseurl = 'https://rickandmortyapi.com/api/'\n",
    "endpoint = 'location'\n",
    "\n",
    "def main(baseurl, endpoint, x):\n",
    "    response = requests.get(baseurl + endpoint + f'?page={x}')\n",
    "    return response.json()\n",
    "\n",
    "def get_pages(response): \n",
    "    pages = response['info']['pages']\n",
    "    return pages \n",
    "\n",
    "def parse_json(response):\n",
    "    location = []\n",
    "    for item in response['results']:\n",
    "        loc = {\n",
    "            'id':item['id'],\n",
    "            'name':item['name'], \n",
    "            'type':item['type'],\n",
    "            'dimension':item['dimension'],\n",
    "            'no_of_residents':len(item['residents'])\n",
    "        }\n",
    "        \n",
    "        location.append(loc)\n",
    "    return location\n",
    "\n",
    "data = main(baseurl, endpoint, 1)\n",
    "places = []\n",
    "\n",
    "for x in range(1, get_pages(data)+1):\n",
    "    everthing = parse_json(main(baseurl, endpoint, x))\n",
    "    places.extend(everthing)"
   ]
  },
  {
   "cell_type": "code",
   "execution_count": 64,
   "metadata": {},
   "outputs": [],
   "source": [
    "locations = pd.DataFrame(places)\n",
    "locations.to_csv('Locations.csv', index=False)"
   ]
  }
 ],
 "metadata": {
  "kernelspec": {
   "display_name": "Python 3",
   "language": "python",
   "name": "python3"
  },
  "language_info": {
   "codemirror_mode": {
    "name": "ipython",
    "version": 3
   },
   "file_extension": ".py",
   "mimetype": "text/x-python",
   "name": "python",
   "nbconvert_exporter": "python",
   "pygments_lexer": "ipython3",
   "version": "3.12.4"
  }
 },
 "nbformat": 4,
 "nbformat_minor": 2
}
