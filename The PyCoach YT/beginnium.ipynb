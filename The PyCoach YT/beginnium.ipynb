{
 "cells": [
  {
   "cell_type": "code",
   "execution_count": 35,
   "metadata": {},
   "outputs": [],
   "source": [
    "from selenium import webdriver\n",
    "from selenium.webdriver.chrome.service import Service\n",
    "from selenium.webdriver.common.by import By"
   ]
  },
  {
   "cell_type": "code",
   "execution_count": 39,
   "metadata": {},
   "outputs": [
    {
     "ename": "TimeoutException",
     "evalue": "Message: timeout: Timed out receiving message from renderer: 285.684\n  (Session info: chrome=130.0.6723.92)\nStacktrace:\n\tGetHandleVerifier [0x00007FF7439B3AF5+28005]\n\t(No symbol) [0x00007FF7439183F0]\n\t(No symbol) [0x00007FF7437B580A]\n\t(No symbol) [0x00007FF7437A3BD7]\n\t(No symbol) [0x00007FF7437A38DA]\n\t(No symbol) [0x00007FF7437A151E]\n\t(No symbol) [0x00007FF7437A1FCF]\n\t(No symbol) [0x00007FF7437B08CE]\n\t(No symbol) [0x00007FF7437C385D]\n\t(No symbol) [0x00007FF7437C91FA]\n\t(No symbol) [0x00007FF7437A2734]\n\t(No symbol) [0x00007FF7437C36B8]\n\t(No symbol) [0x00007FF74384BBFC]\n\t(No symbol) [0x00007FF74382B7E3]\n\t(No symbol) [0x00007FF7437F75C8]\n\t(No symbol) [0x00007FF7437F8731]\n\tGetHandleVerifier [0x00007FF743CA646D+3118813]\n\tGetHandleVerifier [0x00007FF743CF6CC0+3448624]\n\tGetHandleVerifier [0x00007FF743CECF3D+3408301]\n\tGetHandleVerifier [0x00007FF743A7A44B+841403]\n\t(No symbol) [0x00007FF74392344F]\n\t(No symbol) [0x00007FF74391F4C4]\n\t(No symbol) [0x00007FF74391F65D]\n\t(No symbol) [0x00007FF74390EBB9]\n\tBaseThreadInitThunk [0x00007FFFF0C47374+20]\n\tRtlUserThreadStart [0x00007FFFF15DCC91+33]\n",
     "output_type": "error",
     "traceback": [
      "\u001b[1;31m---------------------------------------------------------------------------\u001b[0m",
      "\u001b[1;31mTimeoutException\u001b[0m                          Traceback (most recent call last)",
      "Cell \u001b[1;32mIn[39], line 7\u001b[0m\n\u001b[0;32m      4\u001b[0m service \u001b[38;5;241m=\u001b[39m Service(path)\n\u001b[0;32m      5\u001b[0m driver \u001b[38;5;241m=\u001b[39m webdriver\u001b[38;5;241m.\u001b[39mChrome(service\u001b[38;5;241m=\u001b[39mservice)\n\u001b[1;32m----> 7\u001b[0m \u001b[43mdriver\u001b[49m\u001b[38;5;241;43m.\u001b[39;49m\u001b[43mget\u001b[49m\u001b[43m(\u001b[49m\u001b[43mwebsite\u001b[49m\u001b[43m)\u001b[49m\n\u001b[0;32m     10\u001b[0m all_matches_button \u001b[38;5;241m=\u001b[39m driver\u001b[38;5;241m.\u001b[39mfind_element(By\u001b[38;5;241m.\u001b[39mXPATH, \u001b[38;5;124m'\u001b[39m\u001b[38;5;124m//label[@analytics-event=\u001b[39m\u001b[38;5;124m\"\u001b[39m\u001b[38;5;124mAll matches\u001b[39m\u001b[38;5;124m\"\u001b[39m\u001b[38;5;124m]\u001b[39m\u001b[38;5;124m'\u001b[39m)\n\u001b[0;32m     11\u001b[0m all_matches_button\u001b[38;5;241m.\u001b[39mclick()\n",
      "File \u001b[1;32m~\\AppData\\Roaming\\Python\\Python312\\site-packages\\selenium\\webdriver\\remote\\webdriver.py:363\u001b[0m, in \u001b[0;36mget\u001b[1;34m(self, url)\u001b[0m\n\u001b[0;32m    360\u001b[0m \u001b[38;5;28;01mdef\u001b[39;00m \u001b[38;5;21mexecute\u001b[39m(\u001b[38;5;28mself\u001b[39m, driver_command: \u001b[38;5;28mstr\u001b[39m, params: \u001b[38;5;28mdict\u001b[39m \u001b[38;5;241m=\u001b[39m \u001b[38;5;28;01mNone\u001b[39;00m) \u001b[38;5;241m-\u001b[39m\u001b[38;5;241m>\u001b[39m \u001b[38;5;28mdict\u001b[39m:\n\u001b[0;32m    361\u001b[0m \u001b[38;5;250m    \u001b[39m\u001b[38;5;124;03m\"\"\"Sends a command to be executed by a command.CommandExecutor.\u001b[39;00m\n\u001b[0;32m    362\u001b[0m \n\u001b[1;32m--> 363\u001b[0m \u001b[38;5;124;03m    :Args:\u001b[39;00m\n\u001b[0;32m    364\u001b[0m \u001b[38;5;124;03m     - driver_command: The name of the command to execute as a string.\u001b[39;00m\n\u001b[0;32m    365\u001b[0m \u001b[38;5;124;03m     - params: A dictionary of named parameters to send with the command.\u001b[39;00m\n\u001b[0;32m    366\u001b[0m \n\u001b[0;32m    367\u001b[0m \u001b[38;5;124;03m    :Returns:\u001b[39;00m\n\u001b[0;32m    368\u001b[0m \u001b[38;5;124;03m      The command's JSON response loaded into a dictionary object.\u001b[39;00m\n\u001b[0;32m    369\u001b[0m \u001b[38;5;124;03m    \"\"\"\u001b[39;00m\n\u001b[0;32m    370\u001b[0m     params \u001b[38;5;241m=\u001b[39m \u001b[38;5;28mself\u001b[39m\u001b[38;5;241m.\u001b[39m_wrap_value(params)\n\u001b[0;32m    372\u001b[0m     \u001b[38;5;28;01mif\u001b[39;00m \u001b[38;5;28mself\u001b[39m\u001b[38;5;241m.\u001b[39msession_id:\n",
      "File \u001b[1;32m~\\AppData\\Roaming\\Python\\Python312\\site-packages\\selenium\\webdriver\\remote\\webdriver.py:354\u001b[0m, in \u001b[0;36mexecute\u001b[1;34m(self, driver_command, params)\u001b[0m\n\u001b[0;32m    352\u001b[0m         \u001b[38;5;28;01mreturn\u001b[39;00m \u001b[38;5;28mself\u001b[39m\u001b[38;5;241m.\u001b[39m_shadowroot_cls(\u001b[38;5;28mself\u001b[39m, value[\u001b[38;5;124m\"\u001b[39m\u001b[38;5;124mshadow-6066-11e4-a52e-4f735466cecf\u001b[39m\u001b[38;5;124m\"\u001b[39m])\n\u001b[0;32m    353\u001b[0m     \u001b[38;5;28;01mfor\u001b[39;00m key, val \u001b[38;5;129;01min\u001b[39;00m value\u001b[38;5;241m.\u001b[39mitems():\n\u001b[1;32m--> 354\u001b[0m         value[key] \u001b[38;5;241m=\u001b[39m \u001b[38;5;28mself\u001b[39m\u001b[38;5;241m.\u001b[39m_unwrap_value(val)\n\u001b[0;32m    355\u001b[0m     \u001b[38;5;28;01mreturn\u001b[39;00m value\n\u001b[0;32m    356\u001b[0m \u001b[38;5;28;01mif\u001b[39;00m \u001b[38;5;28misinstance\u001b[39m(value, \u001b[38;5;28mlist\u001b[39m):\n",
      "File \u001b[1;32m~\\AppData\\Roaming\\Python\\Python312\\site-packages\\selenium\\webdriver\\remote\\errorhandler.py:229\u001b[0m, in \u001b[0;36mErrorHandler.check_response\u001b[1;34m(self, response)\u001b[0m\n\u001b[0;32m    227\u001b[0m         alert_text \u001b[38;5;241m=\u001b[39m value[\u001b[38;5;124m\"\u001b[39m\u001b[38;5;124malert\u001b[39m\u001b[38;5;124m\"\u001b[39m]\u001b[38;5;241m.\u001b[39mget(\u001b[38;5;124m\"\u001b[39m\u001b[38;5;124mtext\u001b[39m\u001b[38;5;124m\"\u001b[39m)\n\u001b[0;32m    228\u001b[0m     \u001b[38;5;28;01mraise\u001b[39;00m exception_class(message, screen, stacktrace, alert_text)  \u001b[38;5;66;03m# type: ignore[call-arg]  # mypy is not smart enough here\u001b[39;00m\n\u001b[1;32m--> 229\u001b[0m \u001b[38;5;28;01mraise\u001b[39;00m exception_class(message, screen, stacktrace)\n",
      "\u001b[1;31mTimeoutException\u001b[0m: Message: timeout: Timed out receiving message from renderer: 285.684\n  (Session info: chrome=130.0.6723.92)\nStacktrace:\n\tGetHandleVerifier [0x00007FF7439B3AF5+28005]\n\t(No symbol) [0x00007FF7439183F0]\n\t(No symbol) [0x00007FF7437B580A]\n\t(No symbol) [0x00007FF7437A3BD7]\n\t(No symbol) [0x00007FF7437A38DA]\n\t(No symbol) [0x00007FF7437A151E]\n\t(No symbol) [0x00007FF7437A1FCF]\n\t(No symbol) [0x00007FF7437B08CE]\n\t(No symbol) [0x00007FF7437C385D]\n\t(No symbol) [0x00007FF7437C91FA]\n\t(No symbol) [0x00007FF7437A2734]\n\t(No symbol) [0x00007FF7437C36B8]\n\t(No symbol) [0x00007FF74384BBFC]\n\t(No symbol) [0x00007FF74382B7E3]\n\t(No symbol) [0x00007FF7437F75C8]\n\t(No symbol) [0x00007FF7437F8731]\n\tGetHandleVerifier [0x00007FF743CA646D+3118813]\n\tGetHandleVerifier [0x00007FF743CF6CC0+3448624]\n\tGetHandleVerifier [0x00007FF743CECF3D+3408301]\n\tGetHandleVerifier [0x00007FF743A7A44B+841403]\n\t(No symbol) [0x00007FF74392344F]\n\t(No symbol) [0x00007FF74391F4C4]\n\t(No symbol) [0x00007FF74391F65D]\n\t(No symbol) [0x00007FF74390EBB9]\n\tBaseThreadInitThunk [0x00007FFFF0C47374+20]\n\tRtlUserThreadStart [0x00007FFFF15DCC91+33]\n"
     ]
    }
   ],
   "source": [
    "website = 'https://www.adamchoi.co.uk/overs/detailed'\n",
    "path = \"C:/Users/HP/Downloads/chromedriver-win64/chromedriver.exe\"\n",
    "\n",
    "service = Service(path)\n",
    "driver = webdriver.Chrome(service=service)\n",
    "\n",
    "driver.get(website)\n",
    "\n",
    "\n",
    "all_matches_button = driver.find_element(By.XPATH, '//label[@analytics-event=\"All matches\"]')\n",
    "all_matches_button.click()\n",
    "\n",
    "matches = driver.find_elements(By.TAG_NAME, 'tr')\n",
    "\n",
    "date = []\n",
    "home = []\n",
    "result = []\n",
    "away = []\n",
    "\n",
    "for match in matches[:-2]:\n",
    "    dates = match.find_element(By.XPATH, './td[1]').text\n",
    "    home_teams = match.find_element(By.XPATH, './td[2]').text\n",
    "    scores = match.find_element(By.XPATH, './td[3]').text\n",
    "    away_teams = match.find_element(By.XPATH, './td[4]').text\n",
    "    date.append(dates)\n",
    "    home.append(home_teams)\n",
    "    result.append(scores)\n",
    "    away.append(away_teams)\n",
    "    print(dates, home_teams, scores, away_teams)"
   ]
  },
  {
   "cell_type": "code",
   "execution_count": null,
   "metadata": {},
   "outputs": [],
   "source": [
    "driver.quit"
   ]
  }
 ],
 "metadata": {
  "kernelspec": {
   "display_name": "Python 3",
   "language": "python",
   "name": "python3"
  },
  "language_info": {
   "codemirror_mode": {
    "name": "ipython",
    "version": 3
   },
   "file_extension": ".py",
   "mimetype": "text/x-python",
   "name": "python",
   "nbconvert_exporter": "python",
   "pygments_lexer": "ipython3",
   "version": "3.12.4"
  }
 },
 "nbformat": 4,
 "nbformat_minor": 2
}
