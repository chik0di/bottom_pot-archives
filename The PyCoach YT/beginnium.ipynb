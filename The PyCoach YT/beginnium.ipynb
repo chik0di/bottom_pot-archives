{
 "cells": [
  {
   "cell_type": "markdown",
   "metadata": {},
   "source": [
    "[Website](https://www.adamchoi.co.uk/overs/detailed)"
   ]
  },
  {
   "cell_type": "code",
   "execution_count": 1,
   "metadata": {},
   "outputs": [],
   "source": [
    "from selenium import webdriver\n",
    "from selenium.webdriver.chrome.service import Service\n",
    "from selenium.webdriver.common.by import By\n",
    "from selenium.webdriver.support.ui import Select\n",
    "import pandas as pd\n",
    "import time"
   ]
  },
  {
   "cell_type": "markdown",
   "metadata": {},
   "source": [
    "Cell below scrapes a single league [EPL] and their scorelines so far"
   ]
  },
  {
   "cell_type": "code",
   "execution_count": null,
   "metadata": {},
   "outputs": [],
   "source": [
    "website = 'https://www.adamchoi.co.uk/overs/detailed'\n",
    "path = \"C:/Users/HP/Downloads/chromedriver-win64/chromedriver.exe\"\n",
    "\n",
    "service = Service(path)\n",
    "driver = webdriver.Chrome(service=service)\n",
    "\n",
    "driver.get(website)\n",
    "\n",
    "\n",
    "all_matches_button = driver.find_element(By.XPATH, '//label[@analytics-event=\"All matches\"]')\n",
    "all_matches_button.click()\n",
    "\n",
    "matches = driver.find_elements(By.TAG_NAME, 'table')\n",
    "\n",
    "date = []\n",
    "home = []\n",
    "result = []\n",
    "away = []\n",
    "\n",
    "for match in matches:\n",
    "    rows = match.find_elements(By.TAG_NAME, 'tr')\n",
    "    for row in rows[:-2]:\n",
    "        columns = row.find_elements(By.TAG_NAME, 'td')\n",
    "\n",
    "        dates = columns[0].text\n",
    "        home_teams = columns[1].text\n",
    "        scores = columns[2].text\n",
    "        away_teams =columns[3].text\n",
    "\n",
    "        date.append(dates)\n",
    "        home.append(home_teams)\n",
    "        result.append(scores)\n",
    "        away.append(away_teams)\n",
    "\n",
    "        print(dates, home_teams, scores, away_teams)"
   ]
  },
  {
   "cell_type": "markdown",
   "metadata": {},
   "source": [
    "Cell below will attempt to scrape multiple leagues from the dropdown and maybe fix them in multiple csv's?"
   ]
  },
  {
   "cell_type": "code",
   "execution_count": null,
   "metadata": {},
   "outputs": [],
   "source": [
    "website = 'https://www.adamchoi.co.uk/overs/detailed'\n",
    "path = \"C:/Users/HP/Downloads/chromedriver-win64/chromedriver.exe\"\n",
    "\n",
    "service = Service(path)\n",
    "driver = webdriver.Chrome(service=service)\n",
    "\n",
    "driver.get(website)\n",
    "\n",
    "\n",
    "all_matches_button = driver.find_element(By.XPATH, '//label[@analytics-event=\"All matches\"]')\n",
    "all_matches_button.click()\n",
    "\n",
    "matches = driver.find_elements(By.TAG_NAME, 'table')\n",
    "\n",
    "dropdown = Select(driver.find_element(By.ID, 'country'))\n",
    "dropdown.select_by_visible_text('Spain')\n",
    "\n",
    "time.sleep(5)\n",
    "\n",
    "date = []\n",
    "home = []\n",
    "result = []\n",
    "away = []\n",
    "\n",
    "for match in matches:\n",
    "    rows = match.find_elements(By.TAG_NAME, 'tr')\n",
    "    for row in rows[:-2]:\n",
    "        columns = row.find_elements(By.TAG_NAME, 'td')\n",
    "\n",
    "        dates = columns[0].text\n",
    "        home_teams = columns[1].text\n",
    "        scores = columns[2].text\n",
    "        away_teams =columns[3].text\n",
    "\n",
    "        date.append(dates)\n",
    "        home.append(home_teams)\n",
    "        result.append(scores)\n",
    "        away.append(away_teams)\n",
    "\n",
    "        print(dates, home_teams, scores, away_teams)"
   ]
  },
  {
   "cell_type": "code",
   "execution_count": 57,
   "metadata": {},
   "outputs": [],
   "source": [
    "df = pd.DataFrame({'date':date, 'home_team':home, 'scoreline':result, 'away_team':away})\n",
    "df.to_csv(\"All the EPL Scoreline 2024-25 Season.csv\")"
   ]
  },
  {
   "cell_type": "code",
   "execution_count": null,
   "metadata": {},
   "outputs": [],
   "source": [
    "driver.quit"
   ]
  }
 ],
 "metadata": {
  "kernelspec": {
   "display_name": "Python 3",
   "language": "python",
   "name": "python3"
  },
  "language_info": {
   "codemirror_mode": {
    "name": "ipython",
    "version": 3
   },
   "file_extension": ".py",
   "mimetype": "text/x-python",
   "name": "python",
   "nbconvert_exporter": "python",
   "pygments_lexer": "ipython3",
   "version": "3.12.4"
  }
 },
 "nbformat": 4,
 "nbformat_minor": 2
}
