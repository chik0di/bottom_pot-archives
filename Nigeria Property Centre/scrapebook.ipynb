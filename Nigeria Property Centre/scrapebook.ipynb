{
 "cells": [
  {
   "cell_type": "code",
   "execution_count": 4,
   "metadata": {},
   "outputs": [],
   "source": [
    "import requests\n",
    "import pandas as pd\n",
    "from bs4 import BeautifulSoup\n",
    "from selenium import webdriver\n",
    "from selenium.webdriver.chrome.service import Service\n",
    "from selenium.webdriver.common.by import By\n",
    "from selenium.webdriver.support.ui import WebDriverWait\n",
    "from selenium.webdriver.support import expected_conditions as EC\n",
    "from selenium.webdriver.support.ui import Select\n",
    "import pandas as pd\n",
    "import time"
   ]
  },
  {
   "cell_type": "code",
   "execution_count": 6,
   "metadata": {},
   "outputs": [
    {
     "data": {
      "text/plain": [
       "<Response [200]>"
      ]
     },
     "execution_count": 6,
     "metadata": {},
     "output_type": "execute_result"
    }
   ],
   "source": [
    "# url = \"https://nigeriapropertycentre.com/for-sale/houses/showtype?page=1\"\n",
    "\n",
    "url = \"https://nigeriapropertycentre.com/for-sale/houses/block-of-flats/lagos/yaba/onike/2565773-a-standard-newly-built-standard-spacious-3bedroom\"\n",
    "response = requests.get(url)\n",
    "soup = BeautifulSoup(response.text, 'html')\n",
    "response"
   ]
  },
  {
   "cell_type": "code",
   "execution_count": null,
   "metadata": {},
   "outputs": [
    {
     "name": "stdout",
     "output_type": "stream",
     "text": [
      "['Property Ref: 2565773', 'Added On: 12 Nov 2024', 'Last Updated: 12 Nov 2024', 'Market Status: Available', 'Type: Block of Flats', 'Bedrooms: 3', 'Bathrooms: 4', 'Toilets: 4', '']\n"
     ]
    }
   ],
   "source": [
    "rows = soup.find('table', class_= 'table table-bordered table-striped')\n",
    "\n",
    "for row in rows:\n",
    "    line = row.find_all('td')\n",
    "    fields = [h.text.strip() for h in line]\n",
    "    # table = {field.split(\": \")[0]:field.split(\": \")[1] for field in fields}\n",
    "    print(fields)"
   ]
  },
  {
   "cell_type": "code",
   "execution_count": 40,
   "metadata": {},
   "outputs": [
    {
     "data": {
      "text/plain": [
       "35"
      ]
     },
     "execution_count": 40,
     "metadata": {},
     "output_type": "execute_result"
    }
   ],
   "source": [
    "reviews = [\n",
    "   \"This track kicks off with a beat that hooks you right away, pulling you into a world where each line feels like it was written straight from the artist’s soul.\", \n",
    "\"The flow is smooth yet impactful, balancing confidence and vulnerability in a way that feels completely natural.\", \n",
    "\"The beat is packed with energy, perfectly complementing the artist’s fast-paced flow.\", \n",
    "\"Each bar comes at you like a punch, driven by lyrics that are clever, insightful, and packed with personality.\", \n",
    "\"This track is all about energy and charisma.\", \n",
    "\"With introspective lyrics and a beat that evokes a sense of nostalgia, this song taps into universal emotions.\", \n",
    "\"The artist’s delivery is steady and sincere, making you feel like you’re listening to a close friend share their life story.\", \n",
    "\"With a smooth beat and a relaxed flow, this track brings a chilled-out vibe that’s perfect for late-night listening.\", \n",
    "\"The lyrics touch on themes of ambition and reflection, showing a softer, more thoughtful side of the artist.\", \n",
    "\"This track is a mix of catchy hooks and lyrical depth, with a beat that feels both current and timeless.\", \n",
    "\"The artist brings an introspective energy, balancing personal reflection with a vibe that’s easy to nod along to.\", \n",
    "\"A bouncy beat and quick-paced lyrics make this track feel alive with energy.\", \n",
    "\"The artist’s delivery is fierce, each line dripping with confidence and swagger that’s impossible to ignore.\", \n",
    "\"With a bass-heavy beat and sharp lyricism, this track has an edge that stands out.\", \n",
    "\"The artist’s flow is assertive, delivering each line with conviction and making the song feel like a powerful statement.\", \n",
    "\"The beat here is atmospheric, filled with subtle layers that add depth to the sound.\", \n",
    "\"The artist’s flow is smooth and relaxed, delivering introspective lyrics that invite you to sit back and reflect.\", \n",
    "\"This song has a slow, hypnotic beat that creates a chilled-out vibe.\", \n",
    "\"The artist’s flow is smooth and relaxed, bringing a sense of ease to the track that makes it perfect for unwinding.\", \n",
    "\"This track has a bouncy beat that’s easy to groove to, with a flow that’s both rhythmic and smooth.\", \n",
    "\"The artist’s lyrics are lighthearted, making the song feel like an easy, feel-good listen.\", \n",
    "\"This song feels like a journey, with a beat that evolves and lyrics that reveal layers of meaning.\", \n",
    "\"The artist’s flow is versatile, adapting to the beat and bringing a fresh energy to each verse.\", \n",
    "\"The production on this track is clean and polished, creating a sound that’s both powerful and refined.\", \n",
    "\"The artist’s lyrics are personal, exploring themes of resilience and ambition with honesty.\", \n",
    "\"The production is creative, layering sounds that give the track a unique vibe.\", \n",
    "\"The artist’s flow is smooth and rhythmic, making each line feel like a natural fit for the beat.\", \n",
    "\"A strong beat and intricate flow make this track a standout.\", \n",
    "\"The artist’s lyrics are thoughtful and clever, delivering a message that feels both real and relatable.\", \n",
    "\"This track feels like a journey into the artist’s world, with lyrics that paint vivid pictures of life and struggle.\", \n",
    "\"The beat is dynamic, matching the intensity of the artist’s storytelling.\", \n",
    "\"A confident beat and bold lyrics make this track feel like an anthem.\", \n",
    "\"The artist’s flow is assertive, bringing a sense of power and conviction to every line.\", \n",
    "\"A driving beat and hard-hitting verses make this track feel intense.\", \n",
    "\"The artist’s flow is relentless, matching the energy of the beat and creating a vibe that’s impossible to ignore.\"\n",
    "]\n",
    "\n",
    "len(reviews)"
   ]
  },
  {
   "cell_type": "code",
   "execution_count": null,
   "metadata": {},
   "outputs": [],
   "source": [
    "for page in range(1, 2444):\n",
    "    url = f\"https://nigeriapropertycentre.com/for-sale/houses/showtype?page={page}\"\n",
    "    response = requests.get(url)\n",
    "    soup = BeautifulSoup(response.text, 'html')\n",
    "\n",
    "    container = soup.find_all('div', class_=\"wp-block-content clearfix text-xs-left text-sm-left\")\n",
    "\n",
    "    properties = []\n",
    "\n",
    "    for i in container:\n",
    "        title = i.find('h4')\n",
    "        intro = title.text.strip()\n",
    "\n",
    "        location = i.find(\"strong\")\n",
    "        address = location.text.strip()\n",
    "        state = address.split(\",\")[-1].strip()\n",
    "\n",
    "        money = i.find_all('span', class_='price')[1]\n",
    "        price = money.text.strip()\n",
    "\n",
    "        properties.append([intro, address, price, state])"
   ]
  },
  {
   "cell_type": "code",
   "execution_count": 1,
   "metadata": {},
   "outputs": [
    {
     "ename": "NameError",
     "evalue": "name 'pd' is not defined",
     "output_type": "error",
     "traceback": [
      "\u001b[1;31m---------------------------------------------------------------------------\u001b[0m",
      "\u001b[1;31mNameError\u001b[0m                                 Traceback (most recent call last)",
      "Cell \u001b[1;32mIn[1], line 1\u001b[0m\n\u001b[1;32m----> 1\u001b[0m df \u001b[38;5;241m=\u001b[39m \u001b[43mpd\u001b[49m\u001b[38;5;241m.\u001b[39mDataFrame(properties, columns\u001b[38;5;241m=\u001b[39m[\u001b[38;5;124m'\u001b[39m\u001b[38;5;124mIntro\u001b[39m\u001b[38;5;124m'\u001b[39m, \u001b[38;5;124m'\u001b[39m\u001b[38;5;124mAddress\u001b[39m\u001b[38;5;124m'\u001b[39m, \u001b[38;5;124m'\u001b[39m\u001b[38;5;124mPrice\u001b[39m\u001b[38;5;124m'\u001b[39m, \u001b[38;5;124m'\u001b[39m\u001b[38;5;124mState\u001b[39m\u001b[38;5;124m'\u001b[39m])\n\u001b[0;32m      2\u001b[0m df\n",
      "\u001b[1;31mNameError\u001b[0m: name 'pd' is not defined"
     ]
    }
   ],
   "source": [
    "df = pd.DataFrame(properties, columns=['Intro', 'Address', 'Price', 'State'])\n",
    "df"
   ]
  }
 ],
 "metadata": {
  "kernelspec": {
   "display_name": "Python 3",
   "language": "python",
   "name": "python3"
  },
  "language_info": {
   "codemirror_mode": {
    "name": "ipython",
    "version": 3
   },
   "file_extension": ".py",
   "mimetype": "text/x-python",
   "name": "python",
   "nbconvert_exporter": "python",
   "pygments_lexer": "ipython3",
   "version": "3.12.4"
  }
 },
 "nbformat": 4,
 "nbformat_minor": 2
}
