{
 "cells": [
  {
   "cell_type": "markdown",
   "metadata": {},
   "source": [
    "[Website](https://education.gov.ng/federal-unity-colleges/)"
   ]
  },
  {
   "cell_type": "code",
   "execution_count": 1,
   "metadata": {},
   "outputs": [],
   "source": [
    "import json\n",
    "from selenium import webdriver\n",
    "from selenium.webdriver.chrome.service import Service\n",
    "from selenium.webdriver.common.by import By\n",
    "from selenium.webdriver.support.ui import WebDriverWait\n",
    "from selenium.webdriver.support import expected_conditions as EC\n",
    "from selenium.webdriver.support.ui import Select\n",
    "import pandas as pd\n",
    "import time\n",
    "import pandas as pd\n",
    "from tqdm import tqdm"
   ]
  },
  {
   "cell_type": "code",
   "execution_count": 3,
   "metadata": {},
   "outputs": [],
   "source": [
    "all_schools_websites = []\n",
    "\n",
    "path = \"C:/Users/HP/Downloads/chromedriver-win64/chromedriver.exe\"\n",
    "\n",
    "service = Service(path)\n",
    "driver = webdriver.Chrome(service=service)\n",
    "\n",
    "driver.set_page_load_timeout(120)\n",
    "\n",
    "try: \n",
    "    url = 'https://education.gov.ng/federal-unity-colleges/'\n",
    "    driver.get(url) \n",
    "\n",
    "    while True: \n",
    "        time.sleep(5)\n",
    "\n",
    "        tables = driver.find_elements(By.XPATH, '//tbody')\n",
    "        for table in tables:\n",
    "            rows = table.find_elements(By.TAG_NAME, \"tr\")\n",
    "\n",
    "            for row in rows:\n",
    "                cells = row.find_elements(By.TAG_NAME, \"td\")\n",
    "\n",
    "                if len(cells)>=1:\n",
    "                    \n",
    "                    school_display = cells[0].text.strip()\n",
    "                    website_column = cells[1].find_elements(By.TAG_NAME, \"a\")\n",
    "                    school_website = website_column[0].get_attribute(\"href\") if website_column else None # [web.get_attribute(\"href\") for web in website_column]\n",
    "\n",
    "                    all_schools_websites.append([school_display, school_website])\n",
    "\n",
    "        next_button = WebDriverWait(driver,10).until(\n",
    "                EC.element_to_be_clickable((By.XPATH, \"//button[@aria-label='Next']\"))\n",
    "            )\n",
    "\n",
    "        # if next_button.is_enabled()==True: \n",
    "        if \"disabled\" in next_button.get_attribute(\"class\"):\n",
    "            break  \n",
    "        else:\n",
    "            next_button.click()\n",
    "            time.sleep(5)\n",
    "\n",
    "finally:\n",
    "    driver.quit()\n",
    "        "
   ]
  },
  {
   "cell_type": "code",
   "execution_count": 14,
   "metadata": {},
   "outputs": [],
   "source": [
    "df = pd.DataFrame(all_schools_websites, columns=['school', 'website'])\n",
    "\n",
    "df.to_csv(\"fgc-websites.csv\", index=False, encoding=\"utf-8\")"
   ]
  },
  {
   "cell_type": "code",
   "execution_count": 18,
   "metadata": {},
   "outputs": [
    {
     "data": {
      "text/html": [
       "<div>\n",
       "<style scoped>\n",
       "    .dataframe tbody tr th:only-of-type {\n",
       "        vertical-align: middle;\n",
       "    }\n",
       "\n",
       "    .dataframe tbody tr th {\n",
       "        vertical-align: top;\n",
       "    }\n",
       "\n",
       "    .dataframe thead th {\n",
       "        text-align: right;\n",
       "    }\n",
       "</style>\n",
       "<table border=\"1\" class=\"dataframe\">\n",
       "  <thead>\n",
       "    <tr style=\"text-align: right;\">\n",
       "      <th></th>\n",
       "      <th>school</th>\n",
       "      <th>website</th>\n",
       "    </tr>\n",
       "  </thead>\n",
       "  <tbody>\n",
       "    <tr>\n",
       "      <th>0</th>\n",
       "      <td>KING’S COLLEGE LAGOS</td>\n",
       "      <td>https://kingscollegelagos.sch.ng/</td>\n",
       "    </tr>\n",
       "    <tr>\n",
       "      <th>1</th>\n",
       "      <td>FGC LAGOS</td>\n",
       "      <td>https://fgclagos.sch.ng/</td>\n",
       "    </tr>\n",
       "    <tr>\n",
       "      <th>2</th>\n",
       "      <td>QUEEN’S COLLEGE LAGOS</td>\n",
       "      <td>https://queenscollegelagos.sch.ng/</td>\n",
       "    </tr>\n",
       "    <tr>\n",
       "      <th>3</th>\n",
       "      <td>FSTC YABA</td>\n",
       "      <td>https://fstcyaba.sch.ng/</td>\n",
       "    </tr>\n",
       "    <tr>\n",
       "      <th>4</th>\n",
       "      <td>FGC ODOGBOLU</td>\n",
       "      <td>https://fgcodogbolu.sch.ng/</td>\n",
       "    </tr>\n",
       "  </tbody>\n",
       "</table>\n",
       "</div>"
      ],
      "text/plain": [
       "                  school                             website\n",
       "0   KING’S COLLEGE LAGOS   https://kingscollegelagos.sch.ng/\n",
       "1              FGC LAGOS            https://fgclagos.sch.ng/\n",
       "2  QUEEN’S COLLEGE LAGOS  https://queenscollegelagos.sch.ng/\n",
       "3              FSTC YABA            https://fstcyaba.sch.ng/\n",
       "4           FGC ODOGBOLU         https://fgcodogbolu.sch.ng/"
      ]
     },
     "execution_count": 18,
     "metadata": {},
     "output_type": "execute_result"
    }
   ],
   "source": [
    "df.head()"
   ]
  }
 ],
 "metadata": {
  "kernelspec": {
   "display_name": "Python 3",
   "language": "python",
   "name": "python3"
  },
  "language_info": {
   "codemirror_mode": {
    "name": "ipython",
    "version": 3
   },
   "file_extension": ".py",
   "mimetype": "text/x-python",
   "name": "python",
   "nbconvert_exporter": "python",
   "pygments_lexer": "ipython3",
   "version": "3.12.4"
  }
 },
 "nbformat": 4,
 "nbformat_minor": 4
}
