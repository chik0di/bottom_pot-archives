{
 "cells": [
  {
   "cell_type": "markdown",
   "metadata": {},
   "source": [
    "[Website](https://schoolsenate.com/admission/full-list-of-federal-government-colleges-unity-schools-in-nigeria-by-state-and-geopolitical-zones/)"
   ]
  },
  {
   "cell_type": "code",
   "execution_count": 1,
   "metadata": {},
   "outputs": [],
   "source": [
    "import requests\n",
    "from bs4 import BeautifulSoup\n",
    "import pandas"
   ]
  },
  {
   "cell_type": "code",
   "execution_count": null,
   "metadata": {},
   "outputs": [],
   "source": [
    "url = \"https://schoolsenate.com/admission/full-list-of-federal-government-colleges-unity-schools-in-nigeria-by-state-and-geopolitical-zones/\"\n",
    "response = requests.get(url)\n",
    "soup = BeautifulSoup(response.text, 'html')\n",
    "soup"
   ]
  },
  {
   "cell_type": "code",
   "execution_count": 5,
   "metadata": {},
   "outputs": [
    {
     "data": {
      "text/plain": [
       "[<h2><strong>A. NORTH WEST ZONE</strong></h2>,\n",
       " <h2><strong>B. NORTH EAST ZONE</strong></h2>,\n",
       " <h2><strong>C. NORTH CENTRAL ZONE</strong></h2>,\n",
       " <h2><strong>D. SOUTH EAST ZONE</strong></h2>,\n",
       " <h2><strong>E. SOUTH SOUTH ZONE</strong></h2>,\n",
       " <h2><strong>F. SOUTH WEST ZONE</strong></h2>]"
      ]
     },
     "execution_count": 5,
     "metadata": {},
     "output_type": "execute_result"
    }
   ],
   "source": [
    "geo = soup.find_all('h2')\n",
    "geo"
   ]
  }
 ],
 "metadata": {
  "kernelspec": {
   "display_name": "Python 3",
   "language": "python",
   "name": "python3"
  },
  "language_info": {
   "codemirror_mode": {
    "name": "ipython",
    "version": 3
   },
   "file_extension": ".py",
   "mimetype": "text/x-python",
   "name": "python",
   "nbconvert_exporter": "python",
   "pygments_lexer": "ipython3",
   "version": "3.12.4"
  }
 },
 "nbformat": 4,
 "nbformat_minor": 2
}
