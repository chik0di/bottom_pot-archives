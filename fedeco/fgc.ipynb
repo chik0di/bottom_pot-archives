{
 "cells": [
  {
   "cell_type": "markdown",
   "metadata": {},
   "source": [
    "[Website](https://www.myschoolgist.com/ng/federal-government-unity-schools-in-nigeria/)"
   ]
  },
  {
   "cell_type": "code",
   "execution_count": 2,
   "metadata": {},
   "outputs": [],
   "source": [
    "import requests\n",
    "from bs4 import BeautifulSoup\n",
    "import pandas as pd"
   ]
  },
  {
   "cell_type": "code",
   "execution_count": 3,
   "metadata": {},
   "outputs": [],
   "source": [
    "url = \"https://www.myschoolgist.com/ng/federal-government-unity-schools-in-nigeria/\"\n",
    "response = requests.get(url)\n",
    "soup = BeautifulSoup(response.text, 'html')"
   ]
  },
  {
   "cell_type": "code",
   "execution_count": 19,
   "metadata": {},
   "outputs": [],
   "source": [
    "schools = soup.find_all('tr')\n",
    "\n",
    "fgc = []\n",
    "\n",
    "for school in schools[1:]:\n",
    "    raw = school.find_all('td')\n",
    "    row = [r.text.strip() for r in raw]\n",
    "    if len(row)!=1:\n",
    "        states=row[0].capitalize()\n",
    "        sch=row[1]\n",
    "        sc=sch.replace(',', '')\n",
    "        fed=sc.replace(')', '),')\n",
    "        school_list = [f.strip() for f in fed.split(\",\")]\n",
    "        main = [{\"state\":states.strip(), \"school\":college} for college in school_list]\n",
    "        fgc.append(main)"
   ]
  },
  {
   "cell_type": "code",
   "execution_count": 26,
   "metadata": {},
   "outputs": [
    {
     "data": {
      "text/html": [
       "<div>\n",
       "<style scoped>\n",
       "    .dataframe tbody tr th:only-of-type {\n",
       "        vertical-align: middle;\n",
       "    }\n",
       "\n",
       "    .dataframe tbody tr th {\n",
       "        vertical-align: top;\n",
       "    }\n",
       "\n",
       "    .dataframe thead th {\n",
       "        text-align: right;\n",
       "    }\n",
       "</style>\n",
       "<table border=\"1\" class=\"dataframe\">\n",
       "  <thead>\n",
       "    <tr style=\"text-align: right;\">\n",
       "      <th></th>\n",
       "      <th>state</th>\n",
       "      <th>school</th>\n",
       "    </tr>\n",
       "  </thead>\n",
       "  <tbody>\n",
       "    <tr>\n",
       "      <th>0</th>\n",
       "      <td>Abia</td>\n",
       "      <td>FGGC UMUAHIA (GIRLS ONLY)</td>\n",
       "    </tr>\n",
       "    <tr>\n",
       "      <th>1</th>\n",
       "      <td>Abia</td>\n",
       "      <td>FGC OHAFIA (BOYS &amp; GIRLS)</td>\n",
       "    </tr>\n",
       "    <tr>\n",
       "      <th>2</th>\n",
       "      <td>Abia</td>\n",
       "      <td>FSTC OHANSO (BOYS &amp; GIRLS)</td>\n",
       "    </tr>\n",
       "    <tr>\n",
       "      <th>4</th>\n",
       "      <td>Anambra</td>\n",
       "      <td>FGC NISE (BOYS &amp; GIRLS)</td>\n",
       "    </tr>\n",
       "    <tr>\n",
       "      <th>5</th>\n",
       "      <td>Anambra</td>\n",
       "      <td>FGGC ONITSHA (GIRLS ONLY)</td>\n",
       "    </tr>\n",
       "  </tbody>\n",
       "</table>\n",
       "</div>"
      ],
      "text/plain": [
       "     state                      school\n",
       "0     Abia   FGGC UMUAHIA (GIRLS ONLY)\n",
       "1     Abia   FGC OHAFIA (BOYS & GIRLS)\n",
       "2     Abia  FSTC OHANSO (BOYS & GIRLS)\n",
       "4  Anambra     FGC NISE (BOYS & GIRLS)\n",
       "5  Anambra   FGGC ONITSHA (GIRLS ONLY)"
      ]
     },
     "execution_count": 26,
     "metadata": {},
     "output_type": "execute_result"
    }
   ],
   "source": [
    "flat_gc = [item for sublist in fgc for item in sublist]\n",
    "df=pd.DataFrame(flat_gc)\n",
    "df = df[df['school'] != '']\n",
    "df.head()"
   ]
  }
 ],
 "metadata": {
  "kernelspec": {
   "display_name": "Python 3",
   "language": "python",
   "name": "python3"
  },
  "language_info": {
   "codemirror_mode": {
    "name": "ipython",
    "version": 3
   },
   "file_extension": ".py",
   "mimetype": "text/x-python",
   "name": "python",
   "nbconvert_exporter": "python",
   "pygments_lexer": "ipython3",
   "version": "3.12.4"
  }
 },
 "nbformat": 4,
 "nbformat_minor": 2
}
