{
 "cells": [
  {
   "cell_type": "code",
   "execution_count": 2,
   "metadata": {},
   "outputs": [],
   "source": [
    "import requests\n",
    "import pandas as pd\n",
    "from bs4 import BeautifulSoup"
   ]
  },
  {
   "cell_type": "code",
   "execution_count": 1,
   "metadata": {},
   "outputs": [
    {
     "ename": "NameError",
     "evalue": "name 'requests' is not defined",
     "output_type": "error",
     "traceback": [
      "\u001b[1;31m---------------------------------------------------------------------------\u001b[0m",
      "\u001b[1;31mNameError\u001b[0m                                 Traceback (most recent call last)",
      "Cell \u001b[1;32mIn[1], line 3\u001b[0m\n\u001b[0;32m      1\u001b[0m \u001b[38;5;28;01mfor\u001b[39;00m page \u001b[38;5;129;01min\u001b[39;00m \u001b[38;5;28mrange\u001b[39m(\u001b[38;5;241m2010\u001b[39m, \u001b[38;5;241m2016\u001b[39m):\n\u001b[0;32m      2\u001b[0m     url \u001b[38;5;241m=\u001b[39m \u001b[38;5;124mf\u001b[39m\u001b[38;5;124m\"\u001b[39m\u001b[38;5;124mhttps://www.scrapethissite.com/pages/ajax-javascript/#\u001b[39m\u001b[38;5;132;01m{\u001b[39;00mpage\u001b[38;5;132;01m}\u001b[39;00m\u001b[38;5;124m\"\u001b[39m\n\u001b[1;32m----> 3\u001b[0m     response \u001b[38;5;241m=\u001b[39m \u001b[43mrequests\u001b[49m\u001b[38;5;241m.\u001b[39mget(url)\n\u001b[0;32m      4\u001b[0m     soup \u001b[38;5;241m=\u001b[39m BeautifulSoup(response\u001b[38;5;241m.\u001b[39mtext, \u001b[38;5;124m'\u001b[39m\u001b[38;5;124mhtml\u001b[39m\u001b[38;5;124m'\u001b[39m)\n",
      "\u001b[1;31mNameError\u001b[0m: name 'requests' is not defined"
     ]
    }
   ],
   "source": [
    "for page in range(2010, 2016):\n",
    "    url = f\"https://www.scrapethissite.com/pages/ajax-javascript/#{page}\"\n",
    "    response = requests.get(url)\n",
    "    soup = BeautifulSoup(response.text, 'html')"
   ]
  },
  {
   "cell_type": "code",
   "execution_count": 23,
   "metadata": {},
   "outputs": [
    {
     "data": {
      "text/plain": [
       "[]"
      ]
     },
     "execution_count": 23,
     "metadata": {},
     "output_type": "execute_result"
    }
   ],
   "source": [
    "url = \"https://www.scrapethissite.com/pages/ajax-javascript/#2010\"\n",
    "response = requests.get(url)\n",
    "soup = BeautifulSoup(response.text, 'html')\n",
    "\n",
    "table = soup.find_all('td', class_='film-title')\n",
    "table"
   ]
  },
  {
   "cell_type": "code",
   "execution_count": 3,
   "metadata": {},
   "outputs": [
    {
     "data": {
      "text/plain": [
       "['\\n      ₦ 150,000,000\\n         \\n    4bdrm Duplex in Ikate for Sale\\n  ',\n",
       " '\\n      ₦ 4,500,000\\n     \\n      per annum\\n        \\n    4bdrm Townhouse / Terrace in Royal Pine Estate, Lekki for rent\\n  ',\n",
       " '\\n      ₦ 11,000,000\\n     \\n      per annum\\n        \\n    Furnished 6bdrm Duplex in Lekki Phase 1 for Rent\\n  ',\n",
       " '\\n      ₦ 500,000\\n     \\n      per annum\\n        \\n    1bdrm Apartment in Kabayi, Mararaba for rent\\n  ',\n",
       " '\\n      ₦ 1,300,000\\n     \\n      per annum\\n        \\n    1bdrm Bungalow in Lokogoma for rent\\n  ',\n",
       " '\\n      ₦ 7,500,000\\n     \\n      Outright Price\\n        \\n    Flourish Paradise Estate\\n  ',\n",
       " '\\n      ₦ 135,000,000\\n         \\n    2bdrm Block of Flats in Estate In Wuye for sale\\n  ',\n",
       " '\\n      ₦ 25,000,000\\n     \\n      per annum\\n        \\n    4bdrm Duplex in Banana Island For Rent\\n  ',\n",
       " '\\n      ₦ 35,000,000\\n     \\n      Outright Price\\n        \\n    2plots of Land\\n  ',\n",
       " '\\n      ₦ 380,000,000\\n         \\n    5bdrm Duplex in Magodo for sale\\n  ',\n",
       " '\\n      ₦ 130,000,000\\n         \\n    8bdrm Bungalow in Benin City for sale\\n  ',\n",
       " '\\n      ₦ 2,100,000\\n     \\n      per annum\\n        \\n    Furnished 3bdrm Apartment in Off Iju Road for Rent\\n  ',\n",
       " '\\n      ₦ 200,000,000\\n         \\n    Furnished 5bdrm Duplex in Ajah for sale\\n  ',\n",
       " '\\n      ₦ 500,000\\n     \\n      per annum\\n        \\n    1bdrm Apartment in China Estate, Alaba for rent\\n  ',\n",
       " '\\n      ₦ 7,000,000\\n     \\n      per Sqm\\n        \\n    Estate Plots\\n  ',\n",
       " '\\n      ₦ 650,000,000\\n         \\n    5bdrm Duplex in Ikeja Gra for sale\\n  ',\n",
       " '\\n      ₦ 10,000,000\\n     \\n      Outright Price\\n        \\n    Sale, Plot of Land at Off Sagamu Rd Ogun State Ikorodu\\n  ',\n",
       " '\\n      ₦ 120,000,000\\n         \\n    4bdrm Duplex in Ajah for sale\\n  ',\n",
       " '\\n      ₦ 400,000,000\\n         \\n    5 Bedroom Fully Detached Duplex\\n  ',\n",
       " '\\n      ₦ 2,000,000\\n         \\n    Open Office for Rent in Marwa Garden\\n  ']"
      ]
     },
     "execution_count": 3,
     "metadata": {},
     "output_type": "execute_result"
    }
   ],
   "source": [
    "url = \"https://jiji.ng/real-estate\"\n",
    "response =requests.get(url)\n",
    "soup = BeautifulSoup(response.text, 'html')\n",
    "\n",
    "container = soup.find_all('div', class_='b-list-advert-base__data__header')\n",
    "# container\n",
    "\n",
    "description = [desc.text for desc in container]\n",
    "description"
   ]
  }
 ],
 "metadata": {
  "kernelspec": {
   "display_name": "Python 3",
   "language": "python",
   "name": "python3"
  },
  "language_info": {
   "codemirror_mode": {
    "name": "ipython",
    "version": 3
   },
   "file_extension": ".py",
   "mimetype": "text/x-python",
   "name": "python",
   "nbconvert_exporter": "python",
   "pygments_lexer": "ipython3",
   "version": "3.12.4"
  }
 },
 "nbformat": 4,
 "nbformat_minor": 2
}
