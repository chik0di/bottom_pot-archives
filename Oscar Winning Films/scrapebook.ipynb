{
 "cells": [
  {
   "cell_type": "code",
   "execution_count": 2,
   "metadata": {},
   "outputs": [],
   "source": [
    "import requests\n",
    "import pandas as pd\n",
    "from bs4 import BeautifulSoup"
   ]
  },
  {
   "cell_type": "code",
   "execution_count": null,
   "metadata": {},
   "outputs": [],
   "source": [
    "for page in range(2010, 2016):\n",
    "    url = f\"https://www.scrapethissite.com/pages/ajax-javascript/#{page}\"\n",
    "    response = requests.get(url)\n",
    "    soup = BeautifulSoup(response.text, 'html')"
   ]
  },
  {
   "cell_type": "code",
   "execution_count": 23,
   "metadata": {},
   "outputs": [
    {
     "data": {
      "text/plain": [
       "[]"
      ]
     },
     "execution_count": 23,
     "metadata": {},
     "output_type": "execute_result"
    }
   ],
   "source": [
    "url = \"https://www.scrapethissite.com/pages/ajax-javascript/#2010\"\n",
    "response = requests.get(url)\n",
    "soup = BeautifulSoup(response.text, 'html')\n",
    "\n",
    "table = soup.find_all('td', class_='film-title')\n",
    "table"
   ]
  },
  {
   "cell_type": "code",
   "execution_count": 4,
   "metadata": {},
   "outputs": [
    {
     "data": {
      "text/plain": [
       "93"
      ]
     },
     "execution_count": 4,
     "metadata": {},
     "output_type": "execute_result"
    }
   ],
   "source": [
    "import requests\n",
    "\n",
    "header = {\n",
    "    \"User-Agent\": \"Mozilla/5.0 (X11; Ubuntu; Linux x86_64; rv:131.0) Gecko/20100101 Firefox/131.0\"\n",
    "}\n",
    "url = 'https://query1.finance.yahoo.com/v1/finance/screener/predefined/saved?count=228&formatted=true&scrIds=MOST_ACTIVES&sortField=&sortType=&start=0&fields=ticker%2Csymbol%2ClongName%2CshortName%2CregularMarketPrice%2CregularMarketChange%2CregularMarketChangePercent%2CregularMarketVolume%2CaverageDailyVolume3Month%2CmarketCap%2CtrailingPE%2CfiftyTwoWeekChangePercent%2CfiftyTwoWeekRange%2CregularMarketOpen%2ClongName%2Csparkline&lang=en-US&region=US'\n",
    "response = requests.get(url, headers=header)\n",
    "rows = []\n",
    "for i in response.json()['finance']['result'][0]['quotes']:\n",
    "    try:\n",
    "        longName = i['longName']\n",
    "    except KeyError:\n",
    "        longName = i['quoteSourceName']\n",
    "    trailingPE = None\n",
    "    try:\n",
    "        trailingPE = i['trailingPE']['fmt']\n",
    "    except KeyError:\n",
    "        pass\n",
    "    data = [i['symbol'], longName, i['regularMarketChangePercent']['fmt'], i['regularMarketPrice']['fmt'], i['regularMarketChange']['fmt'], i['regularMarketChangePercent']['fmt'], i['regularMarketVolume']['fmt'], i['averageDailyVolume3Month']['fmt'], i['marketCap']['fmt'], trailingPE, i['fiftyTwoWeekChangePercent']['fmt'], i['fiftyTwoWeekRange']['fmt']]\n",
    "    # print(data)\n",
    "    rows.append(data)\n",
    "# rows\n",
    "len(rows)"
   ]
  },
  {
   "cell_type": "code",
   "execution_count": 3,
   "metadata": {},
   "outputs": [
    {
     "data": {
      "text/plain": [
       "['\\n      ₦ 150,000,000\\n         \\n    4bdrm Duplex in Ikate for Sale\\n  ',\n",
       " '\\n      ₦ 4,500,000\\n     \\n      per annum\\n        \\n    4bdrm Townhouse / Terrace in Royal Pine Estate, Lekki for rent\\n  ',\n",
       " '\\n      ₦ 11,000,000\\n     \\n      per annum\\n        \\n    Furnished 6bdrm Duplex in Lekki Phase 1 for Rent\\n  ',\n",
       " '\\n      ₦ 500,000\\n     \\n      per annum\\n        \\n    1bdrm Apartment in Kabayi, Mararaba for rent\\n  ',\n",
       " '\\n      ₦ 1,300,000\\n     \\n      per annum\\n        \\n    1bdrm Bungalow in Lokogoma for rent\\n  ',\n",
       " '\\n      ₦ 7,500,000\\n     \\n      Outright Price\\n        \\n    Flourish Paradise Estate\\n  ',\n",
       " '\\n      ₦ 135,000,000\\n         \\n    2bdrm Block of Flats in Estate In Wuye for sale\\n  ',\n",
       " '\\n      ₦ 25,000,000\\n     \\n      per annum\\n        \\n    4bdrm Duplex in Banana Island For Rent\\n  ',\n",
       " '\\n      ₦ 35,000,000\\n     \\n      Outright Price\\n        \\n    2plots of Land\\n  ',\n",
       " '\\n      ₦ 380,000,000\\n         \\n    5bdrm Duplex in Magodo for sale\\n  ',\n",
       " '\\n      ₦ 130,000,000\\n         \\n    8bdrm Bungalow in Benin City for sale\\n  ',\n",
       " '\\n      ₦ 2,100,000\\n     \\n      per annum\\n        \\n    Furnished 3bdrm Apartment in Off Iju Road for Rent\\n  ',\n",
       " '\\n      ₦ 200,000,000\\n         \\n    Furnished 5bdrm Duplex in Ajah for sale\\n  ',\n",
       " '\\n      ₦ 500,000\\n     \\n      per annum\\n        \\n    1bdrm Apartment in China Estate, Alaba for rent\\n  ',\n",
       " '\\n      ₦ 7,000,000\\n     \\n      per Sqm\\n        \\n    Estate Plots\\n  ',\n",
       " '\\n      ₦ 650,000,000\\n         \\n    5bdrm Duplex in Ikeja Gra for sale\\n  ',\n",
       " '\\n      ₦ 10,000,000\\n     \\n      Outright Price\\n        \\n    Sale, Plot of Land at Off Sagamu Rd Ogun State Ikorodu\\n  ',\n",
       " '\\n      ₦ 120,000,000\\n         \\n    4bdrm Duplex in Ajah for sale\\n  ',\n",
       " '\\n      ₦ 400,000,000\\n         \\n    5 Bedroom Fully Detached Duplex\\n  ',\n",
       " '\\n      ₦ 2,000,000\\n         \\n    Open Office for Rent in Marwa Garden\\n  ']"
      ]
     },
     "execution_count": 3,
     "metadata": {},
     "output_type": "execute_result"
    }
   ],
   "source": [
    "url = \"https://jiji.ng/real-estate\"\n",
    "response =requests.get(url)\n",
    "soup = BeautifulSoup(response.text, 'html')\n",
    "\n",
    "container = soup.find_all('div', class_='b-list-advert-base__data__header')\n",
    "# container\n",
    "\n",
    "description = [desc.text for desc in container]\n",
    "description"
   ]
  }
 ],
 "metadata": {
  "kernelspec": {
   "display_name": "Python 3",
   "language": "python",
   "name": "python3"
  },
  "language_info": {
   "codemirror_mode": {
    "name": "ipython",
    "version": 3
   },
   "file_extension": ".py",
   "mimetype": "text/x-python",
   "name": "python",
   "nbconvert_exporter": "python",
   "pygments_lexer": "ipython3",
   "version": "3.12.4"
  }
 },
 "nbformat": 4,
 "nbformat_minor": 2
}
