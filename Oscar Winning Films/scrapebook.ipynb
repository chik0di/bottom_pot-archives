{
 "cells": [
  {
   "cell_type": "markdown",
   "metadata": {},
   "source": [
    "[Website](https://www.scrapethissite.com/pages/ajax-javascript/)"
   ]
  },
  {
   "cell_type": "code",
   "execution_count": 51,
   "metadata": {},
   "outputs": [],
   "source": [
    "import requests\n",
    "import pandas as pd \n",
    "import json\n",
    "from bs4 import BeautifulSoup\n",
    "from selenium import webdriver\n",
    "from selenium.webdriver.chrome.service import Service\n",
    "from selenium.webdriver.common.by import By\n",
    "from selenium.webdriver.support.ui import WebDriverWait\n",
    "from selenium.webdriver.support import expected_conditions as EC\n",
    "from selenium.webdriver.support.ui import Select\n",
    "import pandas as pd\n",
    "import time\n",
    "import ast"
   ]
  },
  {
   "cell_type": "code",
   "execution_count": 9,
   "metadata": {},
   "outputs": [
    {
     "name": "stdout",
     "output_type": "stream",
     "text": [
      "Title Nominations Awards Best Picture\n",
      "Spotlight 6 2\n",
      "Mad Max: Fury Road 10 6\n",
      "The Revenant 12 3\n",
      "Bridge of Spies 6 1\n",
      "The Big Short 5 1\n",
      "The Danish Girl 4 1\n",
      "Room 4 1\n",
      "Ex Machina 2 1\n",
      "The Hateful Eight 2 1\n",
      "Inside Out 2 1\n",
      "Amy 1 1\n",
      "Bear Story 1 1\n",
      "A Girl in the River: The Price of Forgiveness 1 1\n",
      "Son of Saul 1 1\n",
      "Spectre 1 1\n",
      "Stutterer 1 1\n"
     ]
    }
   ],
   "source": [
    "url = 'https://www.scrapethissite.com/pages/ajax-javascript/'\n",
    "\n",
    "path = \"C:/Users/HP/Downloads/chromedriver-win64/chromedriver.exe\"\n",
    "service = Service(path)\n",
    "\n",
    "driver = webdriver.Chrome(service=service)\n",
    "\n",
    "driver.get(url)\n",
    "\n",
    "ten = WebDriverWait(driver, 10).until(\n",
    "    EC.element_to_be_clickable((By.XPATH, \"//a[@class='year-link']\"))\n",
    ")\n",
    "ten.click()\n",
    "\n",
    "\n",
    "content = driver.find_element(By.XPATH, '//table[@class=\"table\"]')\n",
    "# rows = driver.find_elements(By.TAG_NAME, 'tr')\n",
    "# body = driver.find_elements(By.CLASS_NAME, 'film')\n",
    "\n",
    "table = content.text\n",
    "\n",
    "print(table)\n",
    "\n",
    "# driver.quit()"
   ]
  },
  {
   "cell_type": "code",
   "execution_count": null,
   "metadata": {},
   "outputs": [
    {
     "name": "stdout",
     "output_type": "stream",
     "text": [
      "['Spotlight', '6', '2']\n",
      "['Mad Max: Fury Road', '10', '6']\n",
      "['The Revenant', '12', '3']\n",
      "['Bridge of Spies', '6', '1']\n",
      "['The Big Short', '5', '1']\n",
      "['The Danish Girl', '4', '1']\n",
      "['Room', '4', '1']\n",
      "['Ex Machina', '2', '1']\n",
      "['The Hateful Eight', '2', '1']\n",
      "['Inside Out', '2', '1']\n",
      "['Amy', '1', '1']\n",
      "['Bear Story', '1', '1']\n",
      "['A Girl in the River: The Price of Forgiveness', '1', '1']\n",
      "['Son of Saul', '1', '1']\n",
      "['Spectre', '1', '1']\n",
      "['Stutterer', '1', '1']\n"
     ]
    }
   ],
   "source": [
    "lines = table.strip().split('\\n')\n",
    "head = lines[0]\n",
    "body = lines[1:]\n",
    "header = head.split()[0:3]\n",
    "\n",
    "formatted_lines = []\n",
    "\n",
    "for line in body:\n",
    "    *title_parts, nominations, awards = line.rsplit(maxsplit=2)\n",
    "    title = \" \".join(title_parts) \n",
    "    formatted_lines.append(f\"{title},{nominations},{awards}\") \n",
    "\n",
    "for form in formatted_lines:\n",
    "    film = form.split(',')\n",
    "    print(film)\n",
    "    # df = pd.DataFrame(films, columns=['Title', 'Nominations', 'Awards'])\n",
    "    # print(df)"
   ]
  }
 ],
 "metadata": {
  "kernelspec": {
   "display_name": "Python 3",
   "language": "python",
   "name": "python3"
  },
  "language_info": {
   "codemirror_mode": {
    "name": "ipython",
    "version": 3
   },
   "file_extension": ".py",
   "mimetype": "text/x-python",
   "name": "python",
   "nbconvert_exporter": "python",
   "pygments_lexer": "ipython3",
   "version": "3.12.4"
  }
 },
 "nbformat": 4,
 "nbformat_minor": 2
}
