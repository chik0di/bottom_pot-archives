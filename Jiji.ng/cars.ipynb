{
 "cells": [
  {
   "cell_type": "markdown",
   "metadata": {},
   "source": [
    "[Website](https://jiji.ng/cars)"
   ]
  },
  {
   "cell_type": "code",
   "execution_count": 17,
   "metadata": {},
   "outputs": [],
   "source": [
    "import requests\n",
    "import pandas as pd\n",
    "from bs4 import BeautifulSoup\n",
    "from selenium import webdriver\n",
    "from selenium.webdriver.chrome.service import Service\n",
    "from selenium.webdriver.common.by import By\n",
    "from selenium.webdriver.support.ui import WebDriverWait\n",
    "from selenium.webdriver.support import expected_conditions as EC\n",
    "from selenium.webdriver.support.ui import Select\n",
    "from selenium.common.exceptions import TimeoutException\n",
    "import pandas as pd\n",
    "import time\n",
    "from tqdm import tqdm"
   ]
  },
  {
   "cell_type": "code",
   "execution_count": null,
   "metadata": {},
   "outputs": [],
   "source": [
    "url = \"https://jiji.ng/cars\"\n",
    "response = requests.get(url)\n",
    "\n",
    "path = \"C:/Users/HP/Downloads/chromedriver-win64/chromedriver.exe\"\n",
    "\n",
    "service = Service(path)\n",
    "driver = webdriver.Chrome(service=service)\n",
    "\n",
    "driver.get(url)\n",
    "\n",
    "SCROLL_PAUSE_TIME = 0.2\n",
    "\n",
    "# Get scroll height\n",
    "last_height = driver.execute_script(\"return document.body.scrollHeight\")\n",
    "\n",
    "for i in tqdm(range(2)):\n",
    "    # Scroll down to bottom\n",
    "    scroll_height =  driver.execute_script(\"return document.body.scrollHeight\") *3\n",
    "    driver.execute_script(\"window.scrollTo(0,  document.body.scrollHeight);\")\n",
    "\n",
    "    # Wait to load page\n",
    "    time.sleep(SCROLL_PAUSE_TIME)\n",
    "\n",
    "    # Calculate new scroll height and compare with last scroll height\n",
    "    new_height = driver.execute_script(\"return document.body.scrollHeight\")\n",
    "    # if new_height == last_height:\n",
    "    #    break\n",
    "    # last_height = new_height\n",
    "\n",
    "frames = [link.get_attribute('href') for link in driver.find_elements(By.XPATH, \"//a[@href][ancestor::*[contains(@class, 'b-list-advert__gallery__item')]]\")]\n",
    "\n",
    "soup = BeautifulSoup(response.text, 'html') \n",
    "\n",
    "features = soup.find_all('div', class_='b-advert-attributes--tags')\n",
    "\n",
    "ads = soup.find_all('div', class_='b-advert-attribute h-pb-5')\n",
    "\n",
    "price = soup.find('div', class_='qa-advert-price-view-title b-alt-advert-price__text')\n",
    "\n",
    "region = soup.find('div', class_='b-advert-info-statistics b-advert-info-statistics--region')\n",
    "\n",
    "specifications = {} \n",
    "\n",
    "for frame in frames: \n",
    "    driver.get(frame)\n",
    "    time.sleep(2)\n",
    "\n",
    "    try:\n",
    "        show_more = WebDriverWait(driver, 10).until(\n",
    "        EC.element_to_be_clickable((By.XPATH, \"//button[@class='fw-button qa-fw-button fw-button--type-primary-link-like fw-button--size-small']\"))\n",
    "        )\n",
    "        show_more.click()  \n",
    "        time.sleep(1)\n",
    "    except TimeoutException:\n",
    "        print(\"Show More button not found. Continuing...\")\n",
    "    except Exception as e:\n",
    "        print(f\"An unexpected error occurred: {e}\")\n",
    "\n",
    "    for ad in ads: \n",
    "        specs = ad.text\n",
    "        spec = [s.strip() for s in specs.split('\\n') if s.strip()]\n",
    "        key, value = spec[1], spec[0]\n",
    "        specifications[key] = value\n",
    "\n",
    "        money = float(price.attrs['content'])\n",
    "        specifications['Price'] = money\n",
    "        where = region.text.strip().split(',')[0]\n",
    "        specifications['Location'] = where\n",
    "\n",
    "        for feature in features: \n",
    "            attr = feature.text\n",
    "            xtic = [x.strip() for x in attr.split('\\n') if x.strip()]\n",
    "\n",
    "        for key in xtic:\n",
    "            specifications[key] = True \n",
    "\n",
    "# print(where)"
   ]
  },
  {
   "cell_type": "code",
   "execution_count": 8,
   "metadata": {},
   "outputs": [
    {
     "name": "stdout",
     "output_type": "stream",
     "text": [
      "{'Second Condition': 'No faults', 'Price': 36000000.0, 'Location': 'Abuja', 'Air Conditioning': True, 'AM/FM Radio': True, 'CD Player': True, 'Alloy Wheels': True, 'Airbags': True, 'Blind Spot Monitor': True, 'CarPlay': True, 'Cruise Control': True, 'Electric Mirrors': True, 'Electric Windows': True, 'Front Fog Lamps': True, 'Leather Seats': True, 'Parking Assist': True, 'Parking Sensors': True, 'Sunroof': True, 'Make': 'Mercedes-Benz', 'Model': 'C43', 'Year of Manufacture': '2017', 'Trim': '4Matic Sedan AWD (3.0L V6 9AM)', 'Body': 'Sedan'}\n"
     ]
    }
   ],
   "source": [
    "url = \"https://jiji.ng/jahi/cars/mercedes-benz-c43-2017-silver-frqooo5S6SrxSyo7yKxthLkm.html?page=1&pos=8&cur_pos=8&ads_per_page=23&ads_count=107342&lid=UUkW3P_cAmk_EVop&indexPosition=7\"\n",
    "response = requests.get(url)\n",
    "\n",
    "soup = BeautifulSoup(response.text, 'html')\n",
    "features = soup.find_all('div', class_='b-advert-attributes--tags')\n",
    "ads = soup.find_all('div', class_='b-advert-attribute h-pb-5')\n",
    "price = soup.find('div', class_='qa-advert-price-view-title b-alt-advert-price__text')\n",
    "region = soup.find('div', class_='b-advert-info-statistics b-advert-info-statistics--region')\n",
    "\n",
    "specifications = {} \n",
    "\n",
    "for ad in ads: \n",
    "    specs = ad.text\n",
    "    spec = [s.strip() for s in specs.split('\\n') if s.strip()]\n",
    "    key, value = spec[1], spec[0]\n",
    "    specifications[key] = value\n",
    "\n",
    "    money = float(price.attrs['content'])\n",
    "    specifications['Price'] = money\n",
    "    where = region.text.strip().split(',')[0]\n",
    "    specifications['Location'] = where\n",
    "\n",
    "    for feature in features: \n",
    "        attr = feature.text\n",
    "        xtic = [x.strip() for x in attr.split('\\n') if x.strip()]\n",
    "\n",
    "    for key in xtic:\n",
    "        specifications[key] = True \n",
    "# print(where)\n",
    "print(specifications)"
   ]
  },
  {
   "cell_type": "code",
   "execution_count": null,
   "metadata": {},
   "outputs": [
    {
     "data": {
      "text/plain": [
       "{}"
      ]
     },
     "execution_count": 16,
     "metadata": {},
     "output_type": "execute_result"
    }
   ],
   "source": [
    "url = \"https://jiji.ng/jahi/cars/mercedes-benz-c43-2017-silver-frqooo5S6SrxSyo7yKxthLkm.html?page=1&pos=8&cur_pos=8&ads_per_page=23&ads_count=107342&lid=UUkW3P_cAmk_EVop&indexPosition=7\"\n",
    "\n",
    "\n",
    "path = \"C:/Users/HP/Downloads/chromedriver-win64/chromedriver.exe\"\n",
    "\n",
    "service = Service(path)\n",
    "driver = webdriver.Chrome(service=service)\n",
    "\n",
    "driver.get(url)\n",
    "show_more = WebDriverWait(driver, 10).until(\n",
    "    EC.element_to_be_clickable((By.XPATH, \"//button[@class='fw-button qa-fw-button fw-button--type-primary-link-like fw-button--size-small']\"))\n",
    ")\n",
    "show_more.click()"
   ]
  },
  {
   "cell_type": "code",
   "execution_count": 11,
   "metadata": {},
   "outputs": [
    {
     "data": {
      "text/plain": [
       "{}"
      ]
     },
     "execution_count": 11,
     "metadata": {},
     "output_type": "execute_result"
    }
   ],
   "source": [
    "specifications"
   ]
  }
 ],
 "metadata": {
  "kernelspec": {
   "display_name": "Python 3",
   "language": "python",
   "name": "python3"
  },
  "language_info": {
   "codemirror_mode": {
    "name": "ipython",
    "version": 3
   },
   "file_extension": ".py",
   "mimetype": "text/x-python",
   "name": "python",
   "nbconvert_exporter": "python",
   "pygments_lexer": "ipython3",
   "version": "3.12.4"
  }
 },
 "nbformat": 4,
 "nbformat_minor": 2
}
