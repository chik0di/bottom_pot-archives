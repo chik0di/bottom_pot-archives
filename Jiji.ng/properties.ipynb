{
 "cells": [
  {
   "cell_type": "code",
   "execution_count": 1,
   "metadata": {},
   "outputs": [],
   "source": [
    "import requests\n",
    "import pandas as pd\n",
    "from bs4 import BeautifulSoup"
   ]
  },
  {
   "cell_type": "code",
   "execution_count": 2,
   "metadata": {},
   "outputs": [],
   "source": [
    "url = \"https://jiji.ng/real-estate\"\n",
    "response =requests.get(url)\n",
    "soup = BeautifulSoup(response.text, 'html')\n",
    "\n",
    "container = soup.find_all('div', class_='b-list-advert-base__data__header')\n",
    "# container\n",
    "\n",
    "description = [desc.text for desc in container]\n",
    "# description"
   ]
  },
  {
   "cell_type": "code",
   "execution_count": null,
   "metadata": {},
   "outputs": [],
   "source": [
    "from tqdm import tqdm\n",
    "SCROLL_PAUSE_TIME = 0.2\n",
    "\n",
    "# Get scroll height\n",
    "last_height = driver.execute_script(\"return document.body.scrollHeight\")\n",
    "\n",
    "for i in tqdm(range(200)):\n",
    "    # Scroll down to bottom\n",
    "    scroll_height =  driver.execute_script(\"return document.body.scrollHeight\") *3\n",
    "    driver.execute_script(\"window.scrollTo(0,  document.body.scrollHeight);\")\n",
    "\n",
    "    # Wait to load page\n",
    "    time.sleep(SCROLL_PAUSE_TIME)\n",
    "\n",
    "    # Calculate new scroll height and compare with last scroll height\n",
    "    new_height = driver.execute_script(\"return document.body.scrollHeight\")\n",
    "    #if new_height == last_height:\n",
    "    #    break\n",
    "    #last_height = new_height"
   ]
  }
 ],
 "metadata": {
  "kernelspec": {
   "display_name": "Python 3",
   "language": "python",
   "name": "python3"
  },
  "language_info": {
   "codemirror_mode": {
    "name": "ipython",
    "version": 3
   },
   "file_extension": ".py",
   "mimetype": "text/x-python",
   "name": "python",
   "nbconvert_exporter": "python",
   "pygments_lexer": "ipython3",
   "version": "3.12.4"
  }
 },
 "nbformat": 4,
 "nbformat_minor": 2
}
