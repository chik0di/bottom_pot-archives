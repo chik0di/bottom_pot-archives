{
 "cells": [
  {
   "cell_type": "markdown",
   "id": "b07267ee",
   "metadata": {},
   "source": [
    "[website](https://boardgamegeek.com/boardgame/224517/brass-birmingham/stats)"
   ]
  },
  {
   "cell_type": "code",
   "execution_count": 67,
   "id": "565ab371",
   "metadata": {},
   "outputs": [],
   "source": [
    "from webdriver_manager.chrome import ChromeDriverManager\n",
    "from bs4 import BeautifulSoup\n",
    "from selenium import webdriver\n",
    "from selenium.webdriver.common.by import By\n",
    "from selenium.webdriver.chrome.service import Service\n",
    "from selenium.webdriver.support.ui import WebDriverWait\n",
    "from selenium.webdriver.support import expected_conditions as EC\n",
    "from selenium.common.exceptions import (\n",
    "    NoSuchElementException,\n",
    "    TimeoutException,\n",
    "    StaleElementReferenceException,\n",
    "    WebDriverException,\n",
    "    InvalidSessionIdException\n",
    ")\n",
    "import time\n",
    "from tqdm import tqdm\n",
    "import os\n",
    "import json\n",
    "import pandas as pd"
   ]
  },
  {
   "cell_type": "code",
   "execution_count": null,
   "id": "cd0c30f3",
   "metadata": {},
   "outputs": [],
   "source": [
    "driver = webdriver.Chrome(service=Service(ChromeDriverManager().install()))\n",
    "\n",
    "allboardgames = 0\n",
    "all_games_links = []\n",
    "\n",
    "page_one = 1 \n",
    "page_end = 3\n",
    "\n",
    "try:\n",
    "    for page in range(page_one, page_end):\n",
    "        url = f\"https://boardgamegeek.com/browse/boardgame/page/{page}\"\n",
    "        driver.get(url)\n",
    "        time.sleep(3)\n",
    "\n",
    "        try:\n",
    "            game_links_per_page = [link.get_attribute('href') for link in driver.find_elements(By.XPATH, '//a[@class=\"primary\"]')]\n",
    "            all_games_links.extend(game_links_per_page)\n",
    "        except (NoSuchElementException, StaleElementReferenceException) as e:\n",
    "                print(f\"Error on page {page}: {e}\")\n",
    "except (TimeoutException, WebDriverException, InvalidSessionIdException) as e:\n",
    "    print(f\"Navigation error: {e}\")\n",
    "\n",
    "game_links = 'GoToGames.txt'\n",
    "with open(game_links, 'w') as file:\n",
    "    for game_link in all_games_links:\n",
    "         file.write(game_link + '\\n')\n",
    "\n",
    "print(f\"The links to all {len(all_games_links)} board games has been collected and stored successfully\")\n",
    "\n",
    "with tqdm(total=len(all_games_links), desc=\"Games Scraped\") as pbar:\n",
    "     for href in all_games_links:\n",
    "          driver.get(href)\n",
    "          boardgames = []\n",
    "\n",
    "          time.sleep(10)\n",
    "\n",
    "          page_source = driver.page_source\n",
    "          soup = BeautifulSoup(page_source, 'html.parser')\n",
    "\n",
    "          SeeFullCredits = WebDriverWait(driver,10).until(\n",
    "               EC.element_to_be_clickable((By.XPATH, '//a[@ui-sref=\"geekitem.credits\"]'))\n",
    "          )\n",
    "          SeeFullCredits.click()"
   ]
  },
  {
   "cell_type": "code",
   "execution_count": 90,
   "id": "fae95f85",
   "metadata": {},
   "outputs": [],
   "source": [
    "driver = webdriver.Chrome(service=Service(ChromeDriverManager().install()))\n",
    "\n",
    "url = \"https://boardgamegeek.com/boardgame/224517/brass-birmingham/credits\"\n",
    "driver.get(url)\n",
    "\n",
    "spans = driver.find_elements(By.XPATH, \"//span[@class='ng-binding ng-scope']\")\n",
    "\n",
    "try:\n",
    "    minimum_players_root = spans[0].text.strip()\n",
    "    minimum_players = int(minimum_players_root)\n",
    "\n",
    "    maximum_players_root = spans[1].text.split('–')[1]\n",
    "    maximum_players = int(maximum_players_root)\n",
    "\n",
    "    minimum_playing_time_root = spans[3].text.strip()\n",
    "    minimum_playing_time = int(minimum_playing_time_root)\n",
    "\n",
    "    maximum_playing_time_root = spans[4].text.split('–')[1]\n",
    "    maximum_playing_time = int(maximum_playing_time_root)\n",
    "\n",
    "    game_name = spans[6].text.strip()\n",
    "    release_year = int(spans[7].text)\n",
    "except Exception as e:\n",
    "    print(\"Error scraping credits\")"
   ]
  },
  {
   "cell_type": "code",
   "execution_count": 98,
   "id": "0c57baa3",
   "metadata": {},
   "outputs": [
    {
     "name": "stdout",
     "output_type": "stream",
     "text": [
      "60 120 2 4 Brass: Birmingham 2018\n"
     ]
    }
   ],
   "source": [
    "print(minimum_playing_time, maximum_playing_time, minimum_players, maximum_players, game_name, release_year )"
   ]
  }
 ],
 "metadata": {
  "kernelspec": {
   "display_name": "Python 3",
   "language": "python",
   "name": "python3"
  },
  "language_info": {
   "codemirror_mode": {
    "name": "ipython",
    "version": 3
   },
   "file_extension": ".py",
   "mimetype": "text/x-python",
   "name": "python",
   "nbconvert_exporter": "python",
   "pygments_lexer": "ipython3",
   "version": "3.12.4"
  }
 },
 "nbformat": 4,
 "nbformat_minor": 5
}
