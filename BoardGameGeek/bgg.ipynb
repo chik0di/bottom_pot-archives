{
 "cells": [
  {
   "cell_type": "markdown",
   "id": "b07267ee",
   "metadata": {},
   "source": [
    "[website](https://boardgamegeek.com/boardgame/224517/brass-birmingham/stats)"
   ]
  },
  {
   "cell_type": "code",
   "execution_count": 54,
   "id": "565ab371",
   "metadata": {},
   "outputs": [],
   "source": [
    "from webdriver_manager.chrome import ChromeDriverManager\n",
    "from bs4 import BeautifulSoup\n",
    "from selenium import webdriver\n",
    "from selenium.webdriver.common.by import By\n",
    "from selenium.webdriver.chrome.service import Service\n",
    "from selenium.webdriver.support.ui import WebDriverWait\n",
    "from selenium.webdriver.support import expected_conditions as EC\n",
    "from selenium.common.exceptions import (\n",
    "    NoSuchElementException,\n",
    "    TimeoutException,\n",
    "    StaleElementReferenceException,\n",
    "    WebDriverException,\n",
    "    InvalidSessionIdException\n",
    ")\n",
    "import time\n",
    "from tqdm import tqdm\n",
    "import logging\n",
    "import json\n",
    "import csv\n",
    "import pandas as pd\n",
    "import os\n",
    "import unicodedata"
   ]
  },
  {
   "cell_type": "code",
   "execution_count": null,
   "id": "ebd0b4cf",
   "metadata": {},
   "outputs": [],
   "source": [
    "logging.basicConfig(\n",
    "    filename='scraper.log',\n",
    "    level=logging.INFO,\n",
    "    format='%(asctime)s - %(levelname)s - %(message)s',\n",
    "    datefmt='%Y-%m-%d %H:%M:%S'\n",
    ")\n",
    "\n",
    "# How to Use\n",
    "start_time = time.time()\n",
    "logging.info(\"Starting scraping task...\")\n",
    "\n",
    "# Simulate some task\n",
    "\n",
    "end_time = time.time()\n",
    "duration = end_time - start_time\n",
    "\n",
    "logging.info(f\"Scraping completed in {duration:.2f} seconds.\")"
   ]
  },
  {
   "cell_type": "code",
   "execution_count": 5,
   "id": "24c591af",
   "metadata": {},
   "outputs": [],
   "source": [
    "#Function to extract players and play-time in SECTION 0\n",
    "\n",
    "def players_time(players, timing):\n",
    "    def extract_min_max(elements):\n",
    "        if elements:\n",
    "            text = elements[0].text.strip()\n",
    "            if '–' in text:\n",
    "                minimum = int(text.split('–')[0])\n",
    "                maximum = int(text.split('–')[1])\n",
    "            else:\n",
    "                minimum = maximum = int(text)\n",
    "        else:\n",
    "            minimum = maximum = None\n",
    "        return minimum, maximum\n",
    "\n",
    "    min_players, max_players = extract_min_max(players)\n",
    "    min_time, max_time = extract_min_max(timing)\n",
    "\n",
    "    return min_players, max_players, min_time, max_time"
   ]
  },
  {
   "cell_type": "code",
   "execution_count": 55,
   "id": "4ca53764",
   "metadata": {},
   "outputs": [],
   "source": [
    "#function to cleanly collect game credits in SECTION 1\n",
    "\n",
    "def get_credits(credits, index, new_line='\\n'):\n",
    "    try:\n",
    "        raw = credits[index].text\n",
    "        text = raw.encode('utf-8').decode('unicode_escape')\n",
    "\n",
    "        if new_line in text:\n",
    "            result = text.replace(new_line, \", \").split(\", \")\n",
    "        else:\n",
    "            result = [text.strip()]\n",
    "            \n",
    "        return [t.strip() for t in result if t.strip()]\n",
    "    except (IndexError, ValueError, AttributeError):\n",
    "        return None"
   ]
  },
  {
   "cell_type": "code",
   "execution_count": 12,
   "id": "dcaafc56",
   "metadata": {},
   "outputs": [],
   "source": [
    "# collect game stats in SECTION 2\n",
    "\n",
    "def get_stats(stats_elem, stats_index, sub_index, new_line='\\n'):\n",
    "    try:\n",
    "        stat_category = stats_elem[stats_index].text.split(new_line)\n",
    "        pre_stat = stat_category[sub_index].strip()\n",
    "        if ',' in pre_stat:\n",
    "            stat = int(pre_stat.replace(',',''))\n",
    "        elif ' / ' in pre_stat:\n",
    "            stat = float(pre_stat.split(' / ')[0])\n",
    "        else: stat = pre_stat\n",
    "        return stat\n",
    "    except (IndexError, ValueError, AttributeError):\n",
    "        return None"
   ]
  },
  {
   "cell_type": "code",
   "execution_count": null,
   "id": "d3739c23",
   "metadata": {},
   "outputs": [],
   "source": [
    "# function to handle ratings in SECTION 3\n",
    "\n",
    "def get_rating(ratings, rating_index):\n",
    "    raw_rating = ratings[rating_index].text.strip()\n",
    "    if 'k' and '.' in raw_rating:\n",
    "        rating = int(raw_rating.replace('.', '').replace('k', '00'))\n",
    "    elif 'k' in raw_rating:\n",
    "        rating = int(raw_rating.replace('k', '000'))\n",
    "    else: rating = int(raw_rating)\n",
    "    return rating"
   ]
  },
  {
   "cell_type": "markdown",
   "id": "c03ad0a2",
   "metadata": {},
   "source": [
    "Extraction Cell"
   ]
  },
  {
   "cell_type": "code",
   "execution_count": null,
   "id": "cd0c30f3",
   "metadata": {},
   "outputs": [
    {
     "name": "stdout",
     "output_type": "stream",
     "text": [
      "The links to all 100 board games has been collected and stored successfully\n"
     ]
    },
    {
     "name": "stderr",
     "output_type": "stream",
     "text": [
      "Games Scraped:   1%|          | 1/100 [00:33<54:44, 33.18s/it]"
     ]
    },
    {
     "name": "stdout",
     "output_type": "stream",
     "text": [
      "Error scraping boardgame at https://boardgamegeek.com/boardgame/224517/brass-birmingham - list index out of range\n"
     ]
    },
    {
     "name": "stderr",
     "output_type": "stream",
     "text": [
      "Games Scraped:   2%|▏         | 2/100 [00:50<38:53, 23.81s/it]"
     ]
    },
    {
     "name": "stdout",
     "output_type": "stream",
     "text": [
      "Error scraping boardgame at https://boardgamegeek.com/boardgame/161936/pandemic-legacy-season-1 - list index out of range\n"
     ]
    },
    {
     "name": "stderr",
     "output_type": "stream",
     "text": [
      "Games Scraped:   3%|▎         | 3/100 [01:07<33:27, 20.70s/it]"
     ]
    },
    {
     "name": "stdout",
     "output_type": "stream",
     "text": [
      "Error scraping boardgame at https://boardgamegeek.com/boardgame/342942/ark-nova - list index out of range\n"
     ]
    },
    {
     "name": "stderr",
     "output_type": "stream",
     "text": [
      "Games Scraped:   4%|▍         | 4/100 [01:21<29:09, 18.22s/it]"
     ]
    },
    {
     "name": "stdout",
     "output_type": "stream",
     "text": [
      "Error scraping boardgame at https://boardgamegeek.com/boardgame/174430/gloomhaven - list index out of range\n"
     ]
    },
    {
     "name": "stderr",
     "output_type": "stream",
     "text": [
      "Games Scraped:  14%|█▍        | 14/100 [03:54<21:56, 15.31s/it]"
     ]
    },
    {
     "name": "stdout",
     "output_type": "stream",
     "text": [
      "Error scraping boardgame at https://boardgamegeek.com/boardgame/12333/twilight-struggle - list index out of range\n"
     ]
    },
    {
     "name": "stderr",
     "output_type": "stream",
     "text": [
      "Games Scraped:  20%|██        | 20/100 [07:56<1:10:33, 52.91s/it]"
     ]
    },
    {
     "name": "stdout",
     "output_type": "stream",
     "text": [
      "Error scraping boardgame at https://boardgamegeek.com/boardgame/28720/brass-lancashire - HTTPConnectionPool(host='localhost', port=51479): Read timed out. (read timeout=120)\n"
     ]
    },
    {
     "name": "stderr",
     "output_type": "stream",
     "text": [
      "Games Scraped:  21%|██        | 21/100 [09:56<1:36:11, 73.05s/it]"
     ]
    },
    {
     "name": "stdout",
     "output_type": "stream",
     "text": [
      "Error scraping boardgame at https://boardgamegeek.com/boardgame/173346/7-wonders-duel - HTTPConnectionPool(host='localhost', port=51479): Read timed out. (read timeout=120)\n"
     ]
    },
    {
     "name": "stderr",
     "output_type": "stream",
     "text": [
      "Games Scraped:  52%|█████▏    | 52/100 [18:30<12:06, 15.14s/it]  "
     ]
    },
    {
     "name": "stdout",
     "output_type": "stream",
     "text": [
      "Error scraping boardgame at https://boardgamegeek.com/boardgame/3076/puerto-rico - list index out of range\n"
     ]
    },
    {
     "name": "stderr",
     "output_type": "stream",
     "text": [
      "Games Scraped:  77%|███████▋  | 77/100 [24:29<05:27, 14.22s/it]"
     ]
    },
    {
     "name": "stdout",
     "output_type": "stream",
     "text": [
      "Error scraping boardgame at https://boardgamegeek.com/boardgame/35677/le-havre - list index out of range\n"
     ]
    },
    {
     "name": "stderr",
     "output_type": "stream",
     "text": [
      "Games Scraped: 100%|██████████| 100/100 [29:43<00:00, 17.83s/it]\n"
     ]
    }
   ],
   "source": [
    "driver = webdriver.Chrome(service=Service(ChromeDriverManager().install()))\n",
    "\n",
    "allboardgames = 0\n",
    "all_games_links = []\n",
    "\n",
    "destination = \"boardgamegeek.json\" \n",
    "if not os.path.exists(destination):\n",
    "    with open(destination, 'w') as f:\n",
    "        json.dump([], f)\n",
    "\n",
    "first_iteration = True\n",
    "row_number = 1\n",
    "\n",
    "page_one = 1 \n",
    "page_end = 2\n",
    "\n",
    "try:\n",
    "    for page in range(page_one, page_end):\n",
    "        url = f\"https://boardgamegeek.com/browse/boardgame/page/{page}\"\n",
    "        driver.get(url)\n",
    "        time.sleep(3)\n",
    "\n",
    "        try:\n",
    "            game_links_per_page = [link.get_attribute('href') for link in driver.find_elements(By.XPATH, '//a[@class=\"primary\"]')]\n",
    "            all_games_links.extend(game_links_per_page)\n",
    "        except (NoSuchElementException, StaleElementReferenceException) as e:\n",
    "                print(f\"Error on page {page}: {e}\")\n",
    "except (TimeoutException, WebDriverException, InvalidSessionIdException) as e:\n",
    "    print(f\"Navigation error: {e}\")\n",
    "\n",
    "game_links = 'GoToGames.txt'\n",
    "with open(game_links, 'w') as file:\n",
    "    for game_link in all_games_links:\n",
    "         file.write(game_link + '\\n')\n",
    "\n",
    "print(f\"The links to all {len(all_games_links)} board games has been collected and stored successfully\")\n",
    "\n",
    "with tqdm(total=len(all_games_links), desc=\"Games Scraped\") as pbar:\n",
    "\n",
    "    \n",
    "    for href in all_games_links:\n",
    "        \n",
    "        try:\n",
    "            driver.get(href)\n",
    "            time.sleep(5)\n",
    "\n",
    "            page_source = driver.page_source\n",
    "            soup = BeautifulSoup(page_source, 'html.parser')\n",
    "\n",
    "        #Section 0\n",
    "        #xt/players and play-time\n",
    "            try:\n",
    "                players = driver.find_elements(By.XPATH, '//span[@ng-if=\"::geekitemctrl.geekitem.data.item.minplayers > 0 || geekitemctrl.geekitem.data.item.maxplayers > 0\"]')\n",
    "                timing = driver.find_elements(By.XPATH, '//span[@min=\"::geekitemctrl.geekitem.data.item.minplaytime\" and @max=\"::geekitemctrl.geekitem.data.item.maxplaytime\"]')\n",
    "                min_players, max_players, min_time, max_time = players_time(players, timing)\n",
    "\n",
    "                bg = {\n",
    "                    'min_players': min_players,\n",
    "                    'max_players': max_players,\n",
    "                    'min_playtime': min_time,\n",
    "                    'max_playtime': max_time\n",
    "                }\n",
    "            except Exception as e:\n",
    "                 print(f\"{e} in players & playtime section of {href}\")\n",
    "\n",
    "\n",
    "        #Section 1\n",
    "        #click on credits\n",
    "            SeeFullCredits = WebDriverWait(driver,10).until(\n",
    "                EC.element_to_be_clickable((By.XPATH, '//a[@ui-sref=\"geekitem.credits\"]'))\n",
    "            )\n",
    "            SeeFullCredits.click()\n",
    "\n",
    "        #wait for game_name and release year element\n",
    "            WebDriverWait(driver,10).until(\n",
    "            EC.visibility_of_element_located((By.XPATH, '//span[@ng-bind-html=\"creditsctrl.geekitem.data.item[info.keyname]|to_trusted\"]'))\n",
    "            )\n",
    "\n",
    "        #xt/game_name, release year\n",
    "            try:\n",
    "                spans = driver.find_elements(By.XPATH, '//span[@ng-bind-html=\"creditsctrl.geekitem.data.item[info.keyname]|to_trusted\"]')\n",
    "                bg['game_name'] = spans[0].text.strip()\n",
    "                bg['release_year'] = int(spans[1].text.strip())\n",
    "\n",
    "                credits = driver.find_elements(By.XPATH, '//div[@ng-if=\"info.datatype == \\'geekitem_linkdata\\'\"]')\n",
    "\n",
    "        #xt/game-credits with the get_credits func.\n",
    "                bg['designers'] = get_credits(credits, 0)\n",
    "                bg['solo_designer'] = get_credits(credits, 1)\n",
    "                bg['artists'] = get_credits(credits, 2)\n",
    "                bg['publishers'] = get_credits(credits, 3)\n",
    "                bg['developer'] = get_credits(credits, 4)\n",
    "                bg['graphic_designer'] = get_credits(credits, 5)\n",
    "                bg['sculptor'] = get_credits(credits, 6)\n",
    "                bg['editor'] = get_credits(credits, 7)\n",
    "                bg['writer'] = get_credits(credits, 8)\n",
    "                bg['insert_designer'] = get_credits(credits, 9)\n",
    "                bg['categories'] = get_credits(credits, 10)\n",
    "                bg['mechanisms'] = get_credits(credits, 11)\n",
    "                bg['family'] = get_credits(credits, 12)\n",
    "            except Exception as e:\n",
    "                print(f\"{e} in credits section of {href}\")\n",
    "        \n",
    "        #Section 2\n",
    "        #click on stats section\n",
    "            SeeGameStats = WebDriverWait(driver,10).until(\n",
    "            EC.element_to_be_clickable((By.XPATH, '//a[@ui-sref=\"geekitem.stats({})\"]'))\n",
    "            )\n",
    "            SeeGameStats.click()\n",
    "\n",
    "        #wait until stats appear\n",
    "            WebDriverWait(driver,10).until(\n",
    "                EC.visibility_of_element_located((By.XPATH, '//div[@class=\"row game-stats\"]'))\n",
    "            )\n",
    "\n",
    "            try:\n",
    "        #xt/relevant stats with get_stats func.\n",
    "                stats_elem = driver.find_elements(By.XPATH, '//ul[@class=\"outline fs-responsive-sm outline-border-col-xs\"]')\n",
    "\n",
    "        #game stats\n",
    "                bg['average_rating'] = get_stats(stats_elem,0,1)\n",
    "                bg['num_of_ratings'] = get_stats(stats_elem,0,3)\n",
    "                bg['std_deviation'] = get_stats(stats_elem,0,5)\n",
    "                bg['weight'] = get_stats(stats_elem,0,7)\n",
    "                bg['comments'] = get_stats(stats_elem,0,9)\n",
    "                bg['fans'] = get_stats(stats_elem,0,11)\n",
    "                bg['page_views'] = get_stats(stats_elem,0,13)\n",
    "            except Exception as e:\n",
    "                print(f\"{e} in game stats of {href}\")\n",
    "\n",
    "        #ranks stats\n",
    "            try:\n",
    "                bg['overall_rank'] = get_stats(stats_elem,1,1)\n",
    "                try:\n",
    "                    rank_row = stats_elem[1]\n",
    "                    rank_items = rank_row.text.strip().split('\\n')\n",
    "\n",
    "                    seen_keys = set()\n",
    "\n",
    "                    i = 2  # Start after Overall Rank\n",
    "                    while i < len(rank_items) - 1:\n",
    "                        label = rank_items[i].strip()\n",
    "                        value = rank_items[i + 1].strip()\n",
    "\n",
    "                        if label in seen_keys:\n",
    "                            i += 1\n",
    "                            continue\n",
    "\n",
    "                        # Make sure value looks like a rank number\n",
    "                        clean_value = value.replace(\",\", \"\")\n",
    "                        if clean_value.isdigit():\n",
    "                            key = label.replace(\" \", \"_\").lower()\n",
    "                            bg[key] = int(clean_value)\n",
    "                            seen_keys.add(label)\n",
    "                            i += 2  # move to next pair\n",
    "                        else:\n",
    "                            i += 1  # skip invalid or dangling label\n",
    "\n",
    "                except Exception as e:\n",
    "                    print(f\"Failed to parse extra ranks of {href}: {e}\")\n",
    "            except Exception as e:\n",
    "                print(f\"{e} in rank stats of {href}\")\n",
    "\n",
    "        #play stats\n",
    "            try:\n",
    "                bg['all_time_plays'] = get_stats(stats_elem,2,1)\n",
    "                bg['this_month_plays'] = get_stats(stats_elem,2,3)\n",
    "            except Exception as e:\n",
    "                print(f\"{e} in play stats of {href}\")\n",
    "\n",
    "        #collecton stats\n",
    "            try:\n",
    "                bg['own'] = get_stats(stats_elem,3,1)\n",
    "                bg['previously_owned'] = get_stats(stats_elem,3,3)\n",
    "                bg['for_trade'] = get_stats(stats_elem,3,5)\n",
    "                bg['want_in_trade'] = get_stats(stats_elem,3,8)\n",
    "                bg['wishlist'] = get_stats(stats_elem,3,11)\n",
    "            except Exception as e:\n",
    "                print(f\"{e} in collection stats of {href}\")\n",
    "\n",
    "        #Section 3\n",
    "        #wait until ratings appear\n",
    "            WebDriverWait(driver,10).until(\n",
    "                EC.visibility_of_element_located((By.XPATH, '//ratings-stats-graph[@objecttype=\"thing\"]'))\n",
    "            )\n",
    "\n",
    "            try:\n",
    "                ratings = driver.find_elements(By.XPATH, \"//*[name()='text']\") #workaround xpath for html that include namespaces like SVG in this case\n",
    "            \n",
    "            #xt/ratings with the get_rating function    \n",
    "                bg['rated_one'] = get_rating(ratings, 10)\n",
    "                bg['rated_two'] = get_rating(ratings, 11)\n",
    "                bg['rated_three'] = get_rating(ratings, 12)\n",
    "                bg['rated_four'] = get_rating(ratings, 13)\n",
    "                bg['rated_five'] = get_rating(ratings, 14)\n",
    "                bg['rated_six'] = get_rating(ratings, 15)\n",
    "                bg['rated_seven'] = get_rating(ratings, 16)\n",
    "                bg['rated_eight'] = get_rating(ratings, 17)\n",
    "                bg['rated_nine'] = get_rating(ratings, 18)\n",
    "                bg['rated_ten'] = get_rating(ratings, 19)\n",
    "            except Exception as e:\n",
    "                print(f\"{e} in scraping ratings of {href}\")\n",
    "\n",
    "            bg['link_to_game']=href\n",
    "            with open(destination, 'r') as f:\n",
    "                    content = f.read()\n",
    "                    data = json.loads(content) if content.strip() else []\n",
    "            data.append(bg)\n",
    "            \n",
    "            with open(destination, \"w\", encoding=\"utf-8\") as f:\n",
    "                json.dump(data, f, indent=4)\n",
    "    \n",
    "        except Exception as e:\n",
    "                print(f'Error scraping boardgame at {href} - {e}')\n",
    "\n",
    "        row_number +=1\n",
    "        allboardgames+=1\n",
    "        pbar.update(1)\n",
    "\n",
    "            \n",
    "driver.quit()"
   ]
  },
  {
   "cell_type": "code",
   "execution_count": null,
   "id": "e347d5ea",
   "metadata": {},
   "outputs": [
    {
     "name": "stdout",
     "output_type": "stream",
     "text": [
      "Successfully converted boardgamegeek.json to boardgame-geek-dataset.csv\n"
     ]
    }
   ],
   "source": [
    "final_destination = \"boardgame-geek-dataset.csv\"\n",
    "\n",
    "with open(destination, 'r', encoding='utf-8') as f:\n",
    "    data = json.load(f)\n",
    "\n",
    "def flatten_lists(record):\n",
    "    flattened = {}\n",
    "    for key, value in record.items():\n",
    "        if isinstance(value, list):\n",
    "            flattened[key] = \"; \".join(str(v) for v in value)\n",
    "        else:\n",
    "            flattened[key] = value\n",
    "    return flattened\n",
    "\n",
    "flattened_data = [flatten_lists(entry) for entry in data]\n",
    "\n",
    "fieldnames = flattened_data[0].keys()\n",
    "\n",
    "with open(final_destination, 'w', newline='', encoding='utf-8') as f:\n",
    "    writer = csv.DictWriter(f, fieldnames=fieldnames)\n",
    "    writer.writeheader()\n",
    "    writer.writerows(flattened_data)\n",
    "\n",
    "print(f\"Successfully converted {destination} to {final_destination}\")"
   ]
  },
  {
   "cell_type": "markdown",
   "id": "73c6dd38",
   "metadata": {},
   "source": [
    "Sandbox"
   ]
  },
  {
   "cell_type": "code",
   "execution_count": null,
   "id": "1eb65934",
   "metadata": {},
   "outputs": [],
   "source": [
    "driver = webdriver.Chrome(service=Service(ChromeDriverManager().install()))\n",
    "\n",
    "url = \"https://boardgamegeek.com/boardgame/167791/terraforming-mars/stats\"\n",
    "driver.get(url)     "
   ]
  }
 ],
 "metadata": {
  "kernelspec": {
   "display_name": "Python 3",
   "language": "python",
   "name": "python3"
  },
  "language_info": {
   "codemirror_mode": {
    "name": "ipython",
    "version": 3
   },
   "file_extension": ".py",
   "mimetype": "text/x-python",
   "name": "python",
   "nbconvert_exporter": "python",
   "pygments_lexer": "ipython3",
   "version": "3.12.4"
  }
 },
 "nbformat": 4,
 "nbformat_minor": 5
}
