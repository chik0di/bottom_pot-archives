{
 "cells": [
  {
   "cell_type": "code",
   "execution_count": 42,
   "metadata": {},
   "outputs": [],
   "source": [
    "import requests\n",
    "import pandas as pd\n",
    "from bs4 import BeautifulSoup\n",
    "import re"
   ]
  },
  {
   "cell_type": "markdown",
   "metadata": {},
   "source": [
    "Most Active Stocks"
   ]
  },
  {
   "cell_type": "code",
   "execution_count": 2,
   "metadata": {},
   "outputs": [],
   "source": [
    "url = 'https://finance.yahoo.com/markets/stocks/most-active/?start=0&count=25'\n",
    "page = requests.get(url)\n",
    "soup = BeautifulSoup(page.text, 'html')"
   ]
  },
  {
   "cell_type": "code",
   "execution_count": 15,
   "metadata": {},
   "outputs": [
    {
     "data": {
      "text/plain": [
       "['Symbol',\n",
       " 'Price',\n",
       " 'Change',\n",
       " 'Change %',\n",
       " 'Volume',\n",
       " 'Avg Vol (3M)',\n",
       " 'Market Cap',\n",
       " 'P/E Ratio (TTM)',\n",
       " '52 Wk Change %']"
      ]
     },
     "execution_count": 15,
     "metadata": {},
     "output_type": "execute_result"
    }
   ],
   "source": [
    "columns = soup.find_all('div', class_='header-container yf-1dbt8wv')\n",
    "header = [name.text.strip() for name in columns]\n",
    "header[:-2]"
   ]
  },
  {
   "cell_type": "code",
   "execution_count": 59,
   "metadata": {},
   "outputs": [
    {
     "name": "stdout",
     "output_type": "stream",
     "text": [
      "['NVDA  NVIDIA Corporation', '141.54 +1.13 (+0.80%)', '+1.13', '+0.80%', '203.386M', '319.251M', '3.472T', '66.14', '243.87%', '', '']\n",
      "['TSLA  Tesla, Inc.', '269.19 +8.71 (+3.34%)', '+8.71', '+3.34%', '160.035M', '80.132M', '864.116B', '73.55', '36.40%', '', '']\n",
      "['JOBY  Joby Aviation, Inc.', '5.16 -0.88 (-14.57%)', '-0.88', '-14.57%', '80.953M', '9.143M', '4.469B', '-', '0.19%', '', '']\n",
      "['NIO  NIO Inc.', '5.26 +0.28 (+5.62%)', '+0.28', '+5.62%', '65.584M', '63.518M', '11.081B', '-', '-30.05%', '', '']\n",
      "['IBRX  ImmunityBio, Inc.', '5.32 +1.11 (+26.37%)', '+1.11', '+26.37%', '64.545M', '3.938M', '3.706B', '-', '72.73%', '', '']\n",
      "['VALE  Vale S.A.', '10.88 +0.39 (+3.72%)', '+0.39', '+3.72%', '59.907M', '30.375M', '46.447B', '5.04', '-19.53%', '', '']\n",
      "['SOFI  SoFi Technologies, Inc.', '10.99 +0.06 (+0.55%)', '+0.06', '+0.55%', '57.497M', '44.675M', '11.715B', '-', '58.36%', '', '']\n",
      "['DJT  Trump Media & Technology Group Corp.', '38.95 +4.00 (+11.44%)', '+4.00', '+11.44%', '55.875M', '18.256M', '7.796B', '-', '157.27%', '', '']\n",
      "['MARA  MARA Holdings, Inc.', '17.06 -1.16 (-6.37%)', '-1.16', '-6.37%', '55.351M', '35.752M', '5.321B', '18.96', '92.77%', '', '']\n",
      "['INTC  Intel Corporation', '22.68 +0.34 (+1.52%)', '+0.34', '+1.52%', '62.82M', '82.316M', '96.98B', '94.50', '-36.45%', '', '']\n",
      "['CPRI  Capri Holdings Limited', '21.26 -20.34 (-48.89%)', '-20.34', '-48.89%', '51.055M', '2.539M', '4.925B', '-', '-58.43%', '', '']\n",
      "['PLTR  Palantir Technologies Inc.', '44.86 +1.30 (+2.98%)', '+1.30', '+2.98%', '48.305M', '59.643M', '96.104B', '263.88', '205.38%', '', '']\n",
      "['AAL  American Airlines Group Inc.', '13.15 +0.37 (+2.90%)', '+0.37', '+2.90%', '44.088M', '35.504M', '8.641B', '31.31', '17.62%', '', '']\n",
      "['WULF  TeraWulf Inc.', '6.38 +0.17 (+2.74%)', '+0.17', '+2.74%', '38.441M', '21.733M', '2.449B', '-', '469.64%', '', '']\n",
      "['F  Ford Motor Company', '11.07 -0.17 (-1.51%)', '-0.17', '-1.51%', '38.802M', '51.988M', '43.966B', '11.53', '13.31%', '', '']\n",
      "['LCID  Lucid Group, Inc.', '2.5000 0.0000 (0.00%)', '0.0000', '0.00%', '32.952M', '37.243M', '6.511B', '-', '-38.57%', '', '']\n",
      "['CLSK  CleanSpark, Inc.', '11.39 -0.57 (-4.77%)', '-0.57', '-4.77%', '32.319M', '23.413M', '2.944B', '-', '178.48%', '', '']\n",
      "['SMCI  Super Micro Computer, Inc.', '47.27 +1.04 (+2.25%)', '+1.04', '+2.25%', '31.712M', '73.229M', '27.68B', '23.52', '99.77%', '', '']\n",
      "['GOLD  Barrick Gold Corporation', '19.61 -0.71 (-3.49%)', '-0.71', '-3.49%', '30.674M', '19.592M', '36.492B', '22.80', '21.73%', '', '']\n",
      "['BBD  Banco Bradesco S.A.', '2.5800 -0.0600 (-2.27%)', '-0.0600', '-2.27%', '27.982M', '30.349M', '26.386B', '12.29', '-8.51%', '', '']\n",
      "['AMD  Advanced Micro Devices, Inc.', '156.23 +2.79 (+1.82%)', '+2.79', '+1.82%', '29.452M', '41.457M', '252.855B', '185.99', '62.44%', '', '']\n",
      "['AAPL  Apple Inc.', '231.41 +0.84 (+0.36%)', '+0.84', '+0.36%', '37.918M', '50.478M', '3.518T', '35.22', '35.89%', '', '']\n",
      "['NEM  Newmont Corporation', '48.42 -0.83 (-1.69%)', '-0.83', '-1.69%', '28.248M', '8.222M', '66.253B', '-', '25.12%', '', '']\n",
      "['IONQ  IonQ, Inc.', '16.96 +1.25 (+7.96%)', '+1.25', '+7.96%', '25.111M', '8.462M', '3.631B', '-', '78.53%', '', '']\n",
      "['MSTR  MicroStrategy Incorporated', '234.34 -1.55 (-0.66%)', '-1.55', '-0.66%', '24.891M', '13.195M', '43.352B', '-', '457.66%', '', '']\n"
     ]
    }
   ],
   "source": [
    "\n",
    "body = soup.find('tbody')\n",
    "rows = body.find_all('tr', class_= 'yf-1dbt8wv')\n",
    "\n",
    "for row in rows:\n",
    "    point = row.find_all('td', class_='cell yf-1dbt8wv') \n",
    "    line = [case.text.strip() for case in point] \n",
    "    print(line)\n",
    "\n",
    "\n",
    "\n",
    "# symbols = [name.text.strip() for name in rows]\n",
    "\n",
    "# # data = list(map(lambda x:[x], symbols))\n",
    "# data = [[z] for z in symbols]\n",
    "\n",
    "# data\n",
    "# body\n",
    "# symbols\n",
    "# rows"
   ]
  },
  {
   "cell_type": "code",
   "execution_count": 41,
   "metadata": {},
   "outputs": [],
   "source": [
    "body = soup.find_all('tr')[1:]\n",
    "# rows = body.find_all('td', class_= 'yf-1dbt8wv')\n",
    "rows = [info.text for info in body]"
   ]
  },
  {
   "cell_type": "code",
   "execution_count": null,
   "metadata": {},
   "outputs": [],
   "source": []
  }
 ],
 "metadata": {
  "kernelspec": {
   "display_name": "Python 3",
   "language": "python",
   "name": "python3"
  },
  "language_info": {
   "codemirror_mode": {
    "name": "ipython",
    "version": 3
   },
   "file_extension": ".py",
   "mimetype": "text/x-python",
   "name": "python",
   "nbconvert_exporter": "python",
   "pygments_lexer": "ipython3",
   "version": "3.12.4"
  }
 },
 "nbformat": 4,
 "nbformat_minor": 2
}
