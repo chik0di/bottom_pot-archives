{
 "cells": [
  {
   "cell_type": "markdown",
   "metadata": {},
   "source": [
    "## Scraping the Most Active Stocks from YahooFinance"
   ]
  },
  {
   "cell_type": "markdown",
   "metadata": {},
   "source": [
    "[Website](https://finance.yahoo.com/markets/stocks/most-active/)"
   ]
  },
  {
   "cell_type": "markdown",
   "metadata": {},
   "source": [
    "### Importing necessary Libraries\n",
    "- pandas for data handling, cleaning, manipulation and analysis.\n",
    "\n",
    "- selenium automates web browsers and user interaction like clicking buttons or dynamically waiting for items to load. Also for scraping sites that requires JavaScript rendering.\n",
    "    - Service manages the ChromeDriver service for Selenium to interact with the Chrome browse\n",
    "\n",
    "    - By provides methods to locate elements on a webpage (e.g., by ID, name, class name, etc.).\n",
    "    - WebDriverWait explicitly waits for specific conditions to be met before proceeding with browser actions.\n",
    "    - expected_conditions provides a collection of pre-built conditions for WebDriverWait (e.g., element visibility, clickability).\n",
    "    - Select simplifies interactions with _select_ HTML elements, like selecting options from dropdowns by visible text, index, or value\n",
    "- time provides time-related functions like adding delays (e.g., time.sleep()), and working with timestamps, or measuring execution time.\n",
    "- tqdm for visualizing the progress of loops in data processing or web scraping.\n",
    "- json for serializing Python objects into JSON format."
   ]
  },
  {
   "cell_type": "code",
   "execution_count": 3,
   "metadata": {},
   "outputs": [],
   "source": [
    "import pandas as pd \n",
    "import json\n",
    "from selenium import webdriver\n",
    "from selenium.webdriver.chrome.service import Service\n",
    "from selenium.webdriver.common.by import By\n",
    "from selenium.webdriver.support.ui import WebDriverWait\n",
    "from selenium.webdriver.support import expected_conditions as EC\n",
    "from selenium.webdriver.support.ui import Select\n",
    "import pandas as pd\n",
    "import time"
   ]
  },
  {
   "cell_type": "markdown",
   "metadata": {},
   "source": [
    "### Scraping the Most Active Stocks data\n",
    "\n",
    "This webpage contains a table that is rendered with Javascript and dynamic pagination. Selenium enables us to loop through each page by clicking the next button after each iteration."
   ]
  },
  {
   "cell_type": "code",
   "execution_count": 4,
   "metadata": {},
   "outputs": [],
   "source": [
    "stock = []\n",
    "\n",
    "path = \"C:/Users/HP/Downloads/chromedriver-win64/chromedriver.exe\"\n",
    "\n",
    "service = Service(path)\n",
    "driver = webdriver.Chrome(service=service)\n",
    "\n",
    "driver.set_page_load_timeout(120)\n",
    "\n",
    "try: \n",
    "    url = 'https://finance.yahoo.com/markets/stocks/most-active/?start=0&count=25' \n",
    "    driver.get(url) \n",
    "    next_button = WebDriverWait(driver,10).until(\n",
    "            EC.element_to_be_clickable((By.XPATH, \"//button[@data-testid='next-page-button']\"))\n",
    "        )\n",
    "\n",
    "    while next_button.is_enabled()==True: \n",
    "        time.sleep(5)\n",
    "\n",
    "        pager = driver.find_elements(By.TAG_NAME, 'tbody')\n",
    "\n",
    "        for page in pager:\n",
    "            rows = page.find_elements(By.TAG_NAME, 'tr')\n",
    "\n",
    "            for row in rows:\n",
    "                try:\n",
    "                    data = row.find_elements(By.TAG_NAME, 'td')\n",
    "\n",
    "                    row_data = {\n",
    "                            \"Symbol\": data[0].text.strip(),\n",
    "                            \"Name\": data[1].text.strip(),\n",
    "                            \"Price\": data[3].text.strip(),\n",
    "                            \"Change\": data[4].text.strip(),\n",
    "                            \"Change %\": data[5].text.strip(),\n",
    "                            \"Volume\": data[6].text.strip(),\n",
    "                            \"Avg Vol (3M)\": data[7].text.strip(),\n",
    "                            \"Market Cap\": data[8].text.strip(),\n",
    "                            \"P/E Ratio (TTM)\": data[9].text.strip(),\n",
    "                            \"52 Wk Change %\": data[10].text.strip()\n",
    "                        }\n",
    "                    stock.append(row_data) \n",
    "\n",
    "                except Exception as e:\n",
    "                        print(f\"Error parsing table: {e}\")\n",
    "                \n",
    "        next_button.click()\n",
    "\n",
    "        time.sleep(5)\n",
    "except:\n",
    "    pass\n",
    "\n",
    "finally:\n",
    "     driver.quit()"
   ]
  },
  {
   "cell_type": "code",
   "execution_count": 5,
   "metadata": {},
   "outputs": [
    {
     "name": "stdout",
     "output_type": "stream",
     "text": [
      "Data successfully saved to Most Active Stocks.json\n"
     ]
    }
   ],
   "source": [
    "j_path = \"Most Active Stocks.json\"\n",
    "\n",
    "with open(j_path, 'w') as file:\n",
    "    json.dump(stock, file, indent=4)\n",
    "\n",
    "print(f\"Data successfully saved to {j_path}\")"
   ]
  },
  {
   "cell_type": "code",
   "execution_count": 6,
   "metadata": {},
   "outputs": [],
   "source": [
    "df = pd.DataFrame(stock)\n",
    "df.to_csv('Most Active Stocks.csv')"
   ]
  },
  {
   "cell_type": "code",
   "execution_count": 7,
   "metadata": {},
   "outputs": [
    {
     "name": "stdout",
     "output_type": "stream",
     "text": [
      "  Symbol                            Name   Price Change Change %    Volume  \\\n",
      "0   NVDA              NVIDIA Corporation  120.07  -4.58   -3.67%    385.2M   \n",
      "1   RGTI         Rigetti Computing, Inc.   13.17  +0.87   +7.07%   199.93M   \n",
      "2   INTC               Intel Corporation   19.43  -0.58   -2.90%  116.226M   \n",
      "3    WBA  Walgreens Boots Alliance, Inc.   10.28  -1.18  -10.30%   91.371M   \n",
      "4      F              Ford Motor Company   10.08  -0.08   -0.79%   92.763M   \n",
      "\n",
      "  Avg Vol (3M) Market Cap P/E Ratio (TTM) 52 Wk Change %  \n",
      "0     236.221M     3.053T           49.21         79.79%  \n",
      "1     139.448M     3.688B               -        942.37%  \n",
      "2      72.868M    84.132B               -        -53.21%  \n",
      "3      24.566M     8.883B               -        -48.29%  \n",
      "4      59.295M    40.061B           11.45        -12.34%       Symbol                     Name   Price Change Change %  Volume  \\\n",
      "270  BRK-B  Berkshire Hathaway Inc.  468.67  -3.68   -0.78%   5.14M   \n",
      "271    EQX       Equinox Gold Corp.    6.07  -0.13   -2.10%  5.134M   \n",
      "272    UEC     Uranium Energy Corp.    7.06  -0.21   -2.89%  5.147M   \n",
      "273    ENB            Enbridge Inc.   43.24  -1.26   -2.83%  5.271M   \n",
      "274    GSK                  GSK plc   35.27  -0.09   -0.25%  5.112M   \n",
      "\n",
      "    Avg Vol (3M) Market Cap P/E Ratio (TTM) 52 Wk Change %  \n",
      "270       4.121M     1.011T            9.48         20.88%  \n",
      "271       5.135M     2.783B           11.04         40.59%  \n",
      "272       7.976M     2.987B               -         -8.90%  \n",
      "273         4.1M    94.682B           21.20         28.69%  \n",
      "274       5.136M     71.96B           23.36        -14.94%  \n"
     ]
    }
   ],
   "source": [
    "print(df.head(), df.tail())"
   ]
  },
  {
   "cell_type": "markdown",
   "metadata": {},
   "source": [
    "python3.11 etl_project_gdp.py"
   ]
  }
 ],
 "metadata": {
  "kernelspec": {
   "display_name": "Python 3",
   "language": "python",
   "name": "python3"
  },
  "language_info": {
   "codemirror_mode": {
    "name": "ipython",
    "version": 3
   },
   "file_extension": ".py",
   "mimetype": "text/x-python",
   "name": "python",
   "nbconvert_exporter": "python",
   "pygments_lexer": "ipython3",
   "version": "3.12.4"
  }
 },
 "nbformat": 4,
 "nbformat_minor": 2
}
