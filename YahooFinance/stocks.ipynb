{
 "cells": [
  {
   "cell_type": "markdown",
   "metadata": {},
   "source": [
    "## Scraping the Most Active Stocks from YahooFinance"
   ]
  },
  {
   "cell_type": "markdown",
   "metadata": {},
   "source": [
    "[Website](https://finance.yahoo.com/markets/stocks/most-active/)"
   ]
  },
  {
   "cell_type": "markdown",
   "metadata": {},
   "source": [
    "### Importing necessary Libraries\n",
    "- pandas for data handling, cleaning, manipulation and analysis.\n",
    "\n",
    "- selenium automates web browsers and user interaction like clicking buttons or dynamically waiting for items to load. Also for scraping sites that requires JavaScript rendering.\n",
    "    - Service manages the ChromeDriver service for Selenium to interact with the Chrome browse\n",
    "\n",
    "    - By provides methods to locate elements on a webpage (e.g., by ID, name, class name, etc.).\n",
    "    - WebDriverWait explicitly waits for specific conditions to be met before proceeding with browser actions.\n",
    "    - expected_conditions provides a collection of pre-built conditions for WebDriverWait (e.g., element visibility, clickability).\n",
    "    - Select simplifies interactions with _select_ HTML elements, like selecting options from dropdowns by visible text, index, or value\n",
    "- time provides time-related functions like adding delays (e.g., time.sleep()), and working with timestamps, or measuring execution time.\n",
    "- tqdm for visualizing the progress of loops in data processing or web scraping.\n",
    "- json for serializing Python objects into JSON format."
   ]
  },
  {
   "cell_type": "code",
   "execution_count": 2,
   "metadata": {},
   "outputs": [],
   "source": [
    "import pandas as pd \n",
    "import json\n",
    "from selenium import webdriver\n",
    "from selenium.webdriver.chrome.service import Service\n",
    "from selenium.webdriver.common.by import By\n",
    "from selenium.webdriver.support.ui import WebDriverWait\n",
    "from selenium.webdriver.support import expected_conditions as EC\n",
    "from selenium.webdriver.support.ui import Select\n",
    "import pandas as pd\n",
    "import time"
   ]
  },
  {
   "cell_type": "markdown",
   "metadata": {},
   "source": [
    "### Scraping the Most Active Stocks data\n",
    "\n",
    "This webpage contains a table that is rendered with Javascript and dynamic pagination. Selenium enables us to loop through each page by clicking the next button after each iteration."
   ]
  },
  {
   "cell_type": "code",
   "execution_count": 7,
   "metadata": {},
   "outputs": [],
   "source": [
    "stock = []\n",
    "\n",
    "path = \"C:/Users/HP/Downloads/chromedriver-win64/chromedriver.exe\"\n",
    "\n",
    "service = Service(path)\n",
    "driver = webdriver.Chrome(service=service)\n",
    "\n",
    "driver.set_page_load_timeout(120)\n",
    "\n",
    "try: \n",
    "    url = 'https://finance.yahoo.com/markets/stocks/most-active/?start=0&count=25' \n",
    "    driver.get(url) \n",
    "    next_button = WebDriverWait(driver,10).until(\n",
    "            EC.element_to_be_clickable((By.XPATH, \"//button[@data-testid='next-page-button']\"))\n",
    "        )\n",
    "\n",
    "    while next_button.is_enabled()==True: \n",
    "        time.sleep(5)\n",
    "\n",
    "        pager = driver.find_elements(By.TAG_NAME, 'tbody')\n",
    "\n",
    "        for page in pager:\n",
    "            rows = page.find_elements(By.TAG_NAME, 'tr')\n",
    "\n",
    "            for row in rows:\n",
    "                try:\n",
    "                    data = row.find_elements(By.TAG_NAME, 'td')\n",
    "\n",
    "                    row_data = {\n",
    "                            \"Symbol\": data[0].text.strip(),\n",
    "                            \"Name\": data[1].text.strip(),\n",
    "                            \"Price\": data[3].text.strip(),\n",
    "                            \"Change\": data[4].text.strip(),\n",
    "                            \"Change %\": data[5].text.strip(),\n",
    "                            \"Volume\": data[6].text.strip(),\n",
    "                            \"Avg Vol (3M)\": data[7].text.strip(),\n",
    "                            \"Market Cap\": data[8].text.strip(),\n",
    "                            \"P/E Ratio (TTM)\": data[9].text.strip(),\n",
    "                            \"52 Wk Change %\": data[10].text.strip()\n",
    "                        }\n",
    "                    stock.append(row_data) \n",
    "\n",
    "                except Exception as e:\n",
    "                        print(f\"Error parsing table: {e}\")\n",
    "                \n",
    "        next_button.click()\n",
    "\n",
    "        time.sleep(5)\n",
    "except:\n",
    "    pass\n",
    "\n",
    "finally:\n",
    "     driver.quit()"
   ]
  },
  {
   "cell_type": "code",
   "execution_count": 8,
   "metadata": {},
   "outputs": [
    {
     "name": "stdout",
     "output_type": "stream",
     "text": [
      "Data successfully saved to Most Active Stocks.json\n"
     ]
    }
   ],
   "source": [
    "j_path = \"Most Active Stocks.json\"\n",
    "\n",
    "with open(j_path, 'w') as file:\n",
    "    json.dump(stock, file, indent=4)\n",
    "\n",
    "print(f\"Data successfully saved to {j_path}\")"
   ]
  },
  {
   "cell_type": "code",
   "execution_count": 9,
   "metadata": {},
   "outputs": [],
   "source": [
    "df = pd.DataFrame(stock)\n",
    "df.to_csv('Most Active Stocks.csv')"
   ]
  },
  {
   "cell_type": "code",
   "execution_count": 10,
   "metadata": {},
   "outputs": [
    {
     "name": "stdout",
     "output_type": "stream",
     "text": [
      "  Symbol                     Name   Price   Change  Change %   Volume  \\\n",
      "0   INTC        Intel Corporation   21.13    +1.46    +7.42%  62.937M   \n",
      "1   NVDA       NVIDIA Corporation  136.70    +3.13    +2.34%  62.278M   \n",
      "2   RGTI  Rigetti Computing, Inc.   10.55    -0.69    -6.18%  55.451M   \n",
      "3   PLUG          Plug Power Inc.  2.5172  -0.2228  -8.1314%  41.424M   \n",
      "4   TSLA              Tesla, Inc.  428.65   +14.83    +3.58%  27.332M   \n",
      "\n",
      "  Avg Vol (3M) Market Cap P/E Ratio (TTM) 52 Wk Change %  \n",
      "0      69.633M    91.344B               -        -59.15%  \n",
      "1     212.603M     3.352T           53.89        124.52%  \n",
      "2     114.853M     2.964B               -      1,012.87%  \n",
      "3      64.795M     2.294B               -          2.24%  \n",
      "4      93.352M     1.376T          117.80         95.02%      Symbol                     Name   Price   Change  Change %  Volume  \\\n",
      "45    HLN               Haleon plc    9.29    +0.10    +1.03%   6.08M   \n",
      "46   GRAB    Grab Holdings Limited  4.5700  +0.1200  +2.6936%  6.234M   \n",
      "47    XOM  Exxon Mobil Corporation  112.39    +1.07    +0.96%  5.788M   \n",
      "48   META     Meta Platforms, Inc.  604.93    -6.37    -1.04%  5.803M   \n",
      "49   IREN             IREN Limited   12.15    +0.70    +6.11%  5.514M   \n",
      "\n",
      "   Avg Vol (3M) Market Cap P/E Ratio (TTM) 52 Wk Change %  \n",
      "45       7.073M    42.005B           29.03          8.24%  \n",
      "46      35.815M    18.424B               -         48.33%  \n",
      "47      14.945M   494.008B           14.00         14.82%  \n",
      "48      12.528M     1.527T           28.52         59.42%  \n",
      "49      17.082M     2.606B               -        165.05%  \n"
     ]
    }
   ],
   "source": [
    "print(df.head(), df.tail())"
   ]
  }
 ],
 "metadata": {
  "kernelspec": {
   "display_name": "Python 3",
   "language": "python",
   "name": "python3"
  },
  "language_info": {
   "codemirror_mode": {
    "name": "ipython",
    "version": 3
   },
   "file_extension": ".py",
   "mimetype": "text/x-python",
   "name": "python",
   "nbconvert_exporter": "python",
   "pygments_lexer": "ipython3",
   "version": "3.12.4"
  }
 },
 "nbformat": 4,
 "nbformat_minor": 2
}
