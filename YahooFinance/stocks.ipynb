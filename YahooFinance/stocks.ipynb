{
 "cells": [
  {
   "cell_type": "markdown",
   "metadata": {},
   "source": [
    "## Scraping the Most Active Stocks from YahooFinance"
   ]
  },
  {
   "cell_type": "markdown",
   "metadata": {},
   "source": [
    "[Website](https://finance.yahoo.com/markets/stocks/most-active/)"
   ]
  },
  {
   "cell_type": "markdown",
   "metadata": {},
   "source": [
    "### Importing necessary Libraries\n",
    "- pandas for data handling, cleaning, manipulation and analysis.\n",
    "\n",
    "- selenium automates web browsers and user interaction like clicking buttons or dynamically waiting for items to load. Also for scraping sites that requires JavaScript rendering.\n",
    "    - Service manages the ChromeDriver service for Selenium to interact with the Chrome browse\n",
    "\n",
    "    - By provides methods to locate elements on a webpage (e.g., by ID, name, class name, etc.).\n",
    "    - WebDriverWait explicitly waits for specific conditions to be met before proceeding with browser actions.\n",
    "    - expected_conditions provides a collection of pre-built conditions for WebDriverWait (e.g., element visibility, clickability).\n",
    "    - Select simplifies interactions with _select_ HTML elements, like selecting options from dropdowns by visible text, index, or value\n",
    "- time provides time-related functions like adding delays (e.g., time.sleep()), and working with timestamps, or measuring execution time.\n",
    "- tqdm for visualizing the progress of loops in data processing or web scraping.\n",
    "- json for serializing Python objects into JSON format."
   ]
  },
  {
   "cell_type": "code",
   "execution_count": 1,
   "metadata": {},
   "outputs": [],
   "source": [
    "import pandas as pd \n",
    "import json\n",
    "from selenium import webdriver\n",
    "from selenium.webdriver.chrome.service import Service\n",
    "from selenium.webdriver.common.by import By\n",
    "from selenium.webdriver.support.ui import WebDriverWait\n",
    "from selenium.webdriver.support import expected_conditions as EC\n",
    "from selenium.webdriver.support.ui import Select\n",
    "import pandas as pd\n",
    "import time"
   ]
  },
  {
   "cell_type": "markdown",
   "metadata": {},
   "source": [
    "### Scraping the Most Active Stocks data\n",
    "\n",
    "This webpage contains a table that is rendered with Javascript and dynamic pagination. Selenium enables us to loop through each page by clicking the next button after each iteration."
   ]
  },
  {
   "cell_type": "code",
   "execution_count": 2,
   "metadata": {},
   "outputs": [],
   "source": [
    "stock = []\n",
    "\n",
    "path = \"C:/Users/HP/Downloads/chromedriver-win64/chromedriver.exe\"\n",
    "\n",
    "service = Service(path)\n",
    "driver = webdriver.Chrome(service=service)\n",
    "\n",
    "driver.set_page_load_timeout(120)\n",
    "\n",
    "try: \n",
    "    url = 'https://finance.yahoo.com/markets/stocks/most-active/?start=0&count=25' \n",
    "    driver.get(url) \n",
    "    next_button = WebDriverWait(driver,10).until(\n",
    "            EC.element_to_be_clickable((By.XPATH, \"//button[@data-testid='next-page-button']\"))\n",
    "        )\n",
    "\n",
    "    while next_button.is_enabled()==True: \n",
    "        time.sleep(5)\n",
    "\n",
    "        pager = driver.find_elements(By.TAG_NAME, 'tbody')\n",
    "\n",
    "        for page in pager:\n",
    "            rows = page.find_elements(By.TAG_NAME, 'tr')\n",
    "\n",
    "            for row in rows:\n",
    "                try:\n",
    "                    data = row.find_elements(By.TAG_NAME, 'td')\n",
    "\n",
    "                    row_data = {\n",
    "                            \"Symbol\": data[0].text.strip(),\n",
    "                            \"Name\": data[1].text.strip(),\n",
    "                            \"Price\": data[3].text.strip(),\n",
    "                            \"Change\": data[4].text.strip(),\n",
    "                            \"Change %\": data[5].text.strip(),\n",
    "                            \"Volume\": data[6].text.strip(),\n",
    "                            \"Avg Vol (3M)\": data[7].text.strip(),\n",
    "                            \"Market Cap\": data[8].text.strip(),\n",
    "                            \"P/E Ratio (TTM)\": data[9].text.strip(),\n",
    "                            \"52 Wk Change %\": data[10].text.strip()\n",
    "                        }\n",
    "                    stock.append(row_data) \n",
    "\n",
    "                except Exception as e:\n",
    "                        print(f\"Error parsing table: {e}\")\n",
    "                \n",
    "        next_button.click()\n",
    "\n",
    "        time.sleep(5)\n",
    "except:\n",
    "    pass\n",
    "\n",
    "finally:\n",
    "     driver.quit()"
   ]
  },
  {
   "cell_type": "code",
   "execution_count": 3,
   "metadata": {},
   "outputs": [
    {
     "name": "stdout",
     "output_type": "stream",
     "text": [
      "Data successfully saved to Most Active Stocks.json\n"
     ]
    }
   ],
   "source": [
    "j_path = \"Most Active Stocks.json\"\n",
    "\n",
    "with open(j_path, 'w') as file:\n",
    "    json.dump(stock, file, indent=4)\n",
    "\n",
    "print(f\"Data successfully saved to {j_path}\")"
   ]
  },
  {
   "cell_type": "code",
   "execution_count": 4,
   "metadata": {},
   "outputs": [],
   "source": [
    "df = pd.DataFrame(stock)\n",
    "df.to_csv('Most Active Stocks.csv')"
   ]
  },
  {
   "cell_type": "code",
   "execution_count": 7,
   "metadata": {},
   "outputs": [
    {
     "name": "stdout",
     "output_type": "stream",
     "text": [
      "  Symbol                     Name   Price   Change  Change %    Volume  \\\n",
      "0   NVDA       NVIDIA Corporation  117.37   -25.25   -17.71%  666.105M   \n",
      "1   RGTI  Rigetti Computing, Inc.   12.11    -1.09    -8.22%  116.388M   \n",
      "2   ABEV               Ambev S.A.  1.8342  +0.0442  +2.4749%  115.633M   \n",
      "3   SOFI  SoFi Technologies, Inc.   15.97    -1.95   -10.91%   95.509M   \n",
      "4   LCID        Lucid Group, Inc.  2.7300  -0.0600  -2.1505%   85.057M   \n",
      "\n",
      "  Avg Vol (3M) Market Cap P/E Ratio (TTM) 52 Wk Change %  \n",
      "0      211.09M      2.88T           46.31        128.32%  \n",
      "1      130.81M     3.383B               -      1,089.19%  \n",
      "2        33.1M    29.894B           12.20        -32.96%  \n",
      "3      51.113M    17.281B          132.71         95.63%  \n",
      "4       86.67M     8.202B               -        -17.21%       Symbol                      Name  Price  Change Change %  Volume  \\\n",
      "195   LITE    Lumentum Holdings Inc.  74.30  -21.35  -22.32%  6.022M   \n",
      "196    STM   STMicroelectronics N.V.  25.07   -0.30   -1.16%  6.009M   \n",
      "197    HPQ                   HP Inc.  33.01   +0.28   +0.84%  5.978M   \n",
      "198   SBUX     Starbucks Corporation  99.56   +0.73   +0.74%  5.977M   \n",
      "199    DVN  Devon Energy Corporation  35.39   -0.58   -1.60%  5.954M   \n",
      "\n",
      "    Avg Vol (3M) Market Cap P/E Ratio (TTM) 52 Wk Change %  \n",
      "195        1.76M     5.104B               -         68.01%  \n",
      "196       5.515M    22.682B           10.31        -43.42%  \n",
      "197       7.243M    30.952B           11.75         11.94%  \n",
      "198       7.921M    113.07B           30.07          5.34%  \n",
      "199      10.187M    23.244B            6.55        -15.92%  \n"
     ]
    }
   ],
   "source": [
    "print(df.head(), df.tail())"
   ]
  },
  {
   "cell_type": "markdown",
   "metadata": {},
   "source": [
    "python3.11 etl_project_gdp.py"
   ]
  }
 ],
 "metadata": {
  "kernelspec": {
   "display_name": "Python 3",
   "language": "python",
   "name": "python3"
  },
  "language_info": {
   "codemirror_mode": {
    "name": "ipython",
    "version": 3
   },
   "file_extension": ".py",
   "mimetype": "text/x-python",
   "name": "python",
   "nbconvert_exporter": "python",
   "pygments_lexer": "ipython3",
   "version": "3.12.4"
  }
 },
 "nbformat": 4,
 "nbformat_minor": 2
}
