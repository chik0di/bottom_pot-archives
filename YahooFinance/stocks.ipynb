{
 "cells": [
  {
   "cell_type": "markdown",
   "metadata": {},
   "source": [
    "[Website](https://finance.yahoo.com/markets/stocks/most-active/)"
   ]
  },
  {
   "cell_type": "code",
   "execution_count": 7,
   "metadata": {},
   "outputs": [],
   "source": [
    "import requests\n",
    "import pandas as pd \n",
    "import json\n",
    "from bs4 import BeautifulSoup\n",
    "from selenium import webdriver\n",
    "from selenium.webdriver.chrome.service import Service\n",
    "from selenium.webdriver.common.by import By\n",
    "from selenium.webdriver.support.ui import WebDriverWait\n",
    "from selenium.webdriver.support import expected_conditions as EC\n",
    "from selenium.webdriver.support.ui import Select\n",
    "import pandas as pd\n",
    "import time"
   ]
  },
  {
   "cell_type": "code",
   "execution_count": 8,
   "metadata": {},
   "outputs": [],
   "source": [
    "stock = []\n",
    "\n",
    "path = \"C:/Users/HP/Downloads/chromedriver-win64/chromedriver.exe\"\n",
    "\n",
    "service = Service(path)\n",
    "driver = webdriver.Chrome(service=service)\n",
    "\n",
    "driver.set_page_load_timeout(120)\n",
    "\n",
    "try: \n",
    "    url = 'https://finance.yahoo.com/markets/stocks/most-active/?start=0&count=25' \n",
    "    driver.get(url) \n",
    "\n",
    "    for _ in range(10): \n",
    "        time.sleep(5)\n",
    "\n",
    "        pager = driver.find_elements(By.TAG_NAME, 'tbody')\n",
    "\n",
    "        for page in pager:\n",
    "            rows = page.find_elements(By.TAG_NAME, 'tr')\n",
    "\n",
    "            for row in rows:\n",
    "                try:\n",
    "                    data = row.find_elements(By.TAG_NAME, 'td')\n",
    "\n",
    "                    row_data = {\n",
    "                            \"Symbol\": data[0].text.strip(),\n",
    "                            \"Name\": data[1].text.strip(),\n",
    "                            \"Price\": data[3].text.strip(),\n",
    "                            \"Change\": data[4].text.strip(),\n",
    "                            \"Change %\": data[5].text.strip(),\n",
    "                            \"Volume\": data[6].text.strip(),\n",
    "                            \"Avg Vol (3M)\": data[7].text.strip(),\n",
    "                            \"Market Cap\": data[8].text.strip(),\n",
    "                            \"P/E Ratio (TTM)\": data[9].text.strip(),\n",
    "                            \"52 Wk Change %\": data[10].text.strip()\n",
    "                        }\n",
    "                    stock.append(row_data) \n",
    "\n",
    "                except Exception as e:\n",
    "                        print(f\"Error parsing table: {e}\")\n",
    "                \n",
    "        next_button = WebDriverWait(driver,10).until(\n",
    "            EC.element_to_be_clickable((By.XPATH, \"//button[@data-testid='next-page-button']\"))\n",
    "        )\n",
    "        next_button.click()\n",
    "\n",
    "        time.sleep(5)\n",
    "except:\n",
    "    pass\n",
    "\n",
    "finally:\n",
    "     driver.quit()\n",
    "            "
   ]
  },
  {
   "cell_type": "code",
   "execution_count": 9,
   "metadata": {},
   "outputs": [
    {
     "name": "stdout",
     "output_type": "stream",
     "text": [
      "Data successfully saved to Most Active Stocks.json\n"
     ]
    }
   ],
   "source": [
    "j_path = \"Most Active Stocks.json\"\n",
    "\n",
    "with open(j_path, 'w') as file:\n",
    "    json.dump(stock, file, indent=4)\n",
    "\n",
    "print(f\"Data successfully saved to {j_path}\")"
   ]
  },
  {
   "cell_type": "code",
   "execution_count": 10,
   "metadata": {},
   "outputs": [],
   "source": [
    "df = pd.DataFrame(stock)\n",
    "df.to_csv('Most Active Stocks.csv')"
   ]
  }
 ],
 "metadata": {
  "kernelspec": {
   "display_name": "Python 3",
   "language": "python",
   "name": "python3"
  },
  "language_info": {
   "codemirror_mode": {
    "name": "ipython",
    "version": 3
   },
   "file_extension": ".py",
   "mimetype": "text/x-python",
   "name": "python",
   "nbconvert_exporter": "python",
   "pygments_lexer": "ipython3",
   "version": "3.12.4"
  }
 },
 "nbformat": 4,
 "nbformat_minor": 2
}
