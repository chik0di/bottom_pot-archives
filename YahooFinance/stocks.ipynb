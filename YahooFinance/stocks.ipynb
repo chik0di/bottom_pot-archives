{
 "cells": [
  {
   "cell_type": "markdown",
   "metadata": {},
   "source": [
    "## Scraping the Most Active Stocks from YahooFinance"
   ]
  },
  {
   "cell_type": "markdown",
   "metadata": {},
   "source": [
    "[Website](https://finance.yahoo.com/markets/stocks/most-active/)"
   ]
  },
  {
   "cell_type": "markdown",
   "metadata": {},
   "source": [
    "### Importing necessary Libraries\n",
    "- pandas for data handling, cleaning, manipulation and analysis.\n",
    "\n",
    "- selenium automates web browsers and user interaction like clicking buttons or dynamically waiting for items to load. Also for scraping sites that requires JavaScript rendering.\n",
    "    - Service manages the ChromeDriver service for Selenium to interact with the Chrome browse\n",
    "\n",
    "    - By provides methods to locate elements on a webpage (e.g., by ID, name, class name, etc.).\n",
    "    - WebDriverWait explicitly waits for specific conditions to be met before proceeding with browser actions.\n",
    "    - expected_conditions provides a collection of pre-built conditions for WebDriverWait (e.g., element visibility, clickability).\n",
    "    - Select simplifies interactions with _select_ HTML elements, like selecting options from dropdowns by visible text, index, or value\n",
    "- time provides time-related functions like adding delays (e.g., time.sleep()), and working with timestamps, or measuring execution time.\n",
    "- tqdm for visualizing the progress of loops in data processing or web scraping.\n",
    "- json for serializing Python objects into JSON format."
   ]
  },
  {
   "cell_type": "code",
   "execution_count": 1,
   "metadata": {},
   "outputs": [],
   "source": [
    "import pandas as pd \n",
    "import json\n",
    "from selenium import webdriver\n",
    "from selenium.webdriver.chrome.service import Service\n",
    "from selenium.webdriver.common.by import By\n",
    "from selenium.webdriver.support.ui import WebDriverWait\n",
    "from selenium.webdriver.support import expected_conditions as EC\n",
    "from selenium.webdriver.support.ui import Select\n",
    "import pandas as pd\n",
    "import time"
   ]
  },
  {
   "cell_type": "markdown",
   "metadata": {},
   "source": [
    "### Scraping the Most Active Stocks data\n",
    "\n",
    "This webpage contains a table that is rendered with Javascript and dynamic pagination. Selenium enables us to loop through each page by clicking the next button after each iteration."
   ]
  },
  {
   "cell_type": "code",
   "execution_count": 2,
   "metadata": {},
   "outputs": [],
   "source": [
    "stock = []\n",
    "\n",
    "path = \"C:/Users/HP/Downloads/chromedriver-win64/chromedriver.exe\"\n",
    "\n",
    "service = Service(path)\n",
    "driver = webdriver.Chrome(service=service)\n",
    "\n",
    "driver.set_page_load_timeout(120)\n",
    "\n",
    "try: \n",
    "    url = 'https://finance.yahoo.com/markets/stocks/most-active/?start=0&count=25' \n",
    "    driver.get(url) \n",
    "    next_button = WebDriverWait(driver,10).until(\n",
    "            EC.element_to_be_clickable((By.XPATH, \"//button[@data-testid='next-page-button']\"))\n",
    "        )\n",
    "\n",
    "    while next_button.is_enabled()==True: \n",
    "        time.sleep(5)\n",
    "\n",
    "        pager = driver.find_elements(By.TAG_NAME, 'tbody')\n",
    "\n",
    "        for page in pager:\n",
    "            rows = page.find_elements(By.TAG_NAME, 'tr')\n",
    "\n",
    "            for row in rows:\n",
    "                try:\n",
    "                    data = row.find_elements(By.TAG_NAME, 'td')\n",
    "\n",
    "                    row_data = {\n",
    "                            \"Symbol\": data[0].text.strip(),\n",
    "                            \"Name\": data[1].text.strip(),\n",
    "                            \"Price\": data[3].text.strip(),\n",
    "                            \"Change\": data[4].text.strip(),\n",
    "                            \"Change %\": data[5].text.strip(),\n",
    "                            \"Volume\": data[6].text.strip(),\n",
    "                            \"Avg Vol (3M)\": data[7].text.strip(),\n",
    "                            \"Market Cap\": data[8].text.strip(),\n",
    "                            \"P/E Ratio (TTM)\": data[9].text.strip(),\n",
    "                            \"52 Wk Change %\": data[10].text.strip()\n",
    "                        }\n",
    "                    stock.append(row_data) \n",
    "\n",
    "                except Exception as e:\n",
    "                        print(f\"Error parsing table: {e}\")\n",
    "                \n",
    "        next_button.click()\n",
    "\n",
    "        time.sleep(5)\n",
    "except:\n",
    "    pass\n",
    "\n",
    "finally:\n",
    "     driver.quit()"
   ]
  },
  {
   "cell_type": "code",
   "execution_count": 3,
   "metadata": {},
   "outputs": [
    {
     "name": "stdout",
     "output_type": "stream",
     "text": [
      "Data successfully saved to Most Active Stocks.json\n"
     ]
    }
   ],
   "source": [
    "j_path = \"Most Active Stocks.json\"\n",
    "\n",
    "with open(j_path, 'w') as file:\n",
    "    json.dump(stock, file, indent=4)\n",
    "\n",
    "print(f\"Data successfully saved to {j_path}\")"
   ]
  },
  {
   "cell_type": "code",
   "execution_count": 4,
   "metadata": {},
   "outputs": [],
   "source": [
    "df = pd.DataFrame(stock)\n",
    "df.to_csv('Most Active Stocks.csv')"
   ]
  },
  {
   "cell_type": "code",
   "execution_count": 5,
   "metadata": {},
   "outputs": [
    {
     "name": "stdout",
     "output_type": "stream",
     "text": [
      "  Symbol                     Name   Price   Change Change %    Volume  \\\n",
      "0   NVDA       NVIDIA Corporation  137.71    +4.14   +3.10%  199.339M   \n",
      "1   RGTI  Rigetti Computing, Inc.    9.83    -1.41  -12.54%  152.186M   \n",
      "2   INTC        Intel Corporation   21.49    +1.82   +9.25%  162.207M   \n",
      "3   PLUG          Plug Power Inc.  2.4400  -0.3000  -10.95%   94.642M   \n",
      "4   TSLA              Tesla, Inc.  426.50   +12.68   +3.06%   93.673M   \n",
      "\n",
      "  Avg Vol (3M) Market Cap P/E Ratio (TTM) 52 Wk Change %  \n",
      "0     213.014M     3.373T           54.43        130.85%  \n",
      "1     117.215M     2.753B               -        793.64%  \n",
      "2      71.669M    92.686B               -        -55.43%  \n",
      "3      65.549M     2.223B               -        -14.08%  \n",
      "4      94.093M     1.369T          116.21        104.26%       Symbol                              Name   Price Change Change %  Volume  \\\n",
      "245    VFC                  V.F. Corporation   23.67  +0.02   +0.08%  5.207M   \n",
      "246   RBLX                Roblox Corporation   65.53  +0.27   +0.41%  5.182M   \n",
      "247     PM  Philip Morris International Inc.  121.59  +1.79   +1.49%  5.166M   \n",
      "248    FHN         First Horizon Corporation   21.56  +0.25   +1.17%  5.159M   \n",
      "249      M                      Macy's, Inc.   13.99  +0.12   +0.87%  5.195M   \n",
      "\n",
      "    Avg Vol (3M) Market Cap P/E Ratio (TTM) 52 Wk Change %  \n",
      "245       6.437M     9.215B               -         43.54%  \n",
      "246       8.194M    43.002B               -         61.88%  \n",
      "247       5.257M   189.052B           19.30         31.55%  \n",
      "248       6.148M    11.297B           15.85         50.77%  \n",
      "249       6.814M     3.884B           22.93        -23.38%  \n"
     ]
    }
   ],
   "source": [
    "print(df.head(), df.tail())"
   ]
  }
 ],
 "metadata": {
  "kernelspec": {
   "display_name": "Python 3",
   "language": "python",
   "name": "python3"
  },
  "language_info": {
   "codemirror_mode": {
    "name": "ipython",
    "version": 3
   },
   "file_extension": ".py",
   "mimetype": "text/x-python",
   "name": "python",
   "nbconvert_exporter": "python",
   "pygments_lexer": "ipython3",
   "version": "3.12.4"
  }
 },
 "nbformat": 4,
 "nbformat_minor": 2
}
